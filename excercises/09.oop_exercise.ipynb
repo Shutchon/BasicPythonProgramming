{
  "nbformat": 4,
  "nbformat_minor": 0,
  "metadata": {
    "colab": {
      "provenance": []
    },
    "kernelspec": {
      "name": "python3",
      "display_name": "Python 3"
    },
    "language_info": {
      "name": "python"
    }
  },
  "cells": [
    {
      "cell_type": "markdown",
      "source": [
        "## โจทย์เรื่อง function\n",
        "### จงเขียนโปรแกรมที่จะให้ผลลัพธ์ตามโจทย์"
      ],
      "metadata": {
        "id": "BkzoAZDh9Mxx"
      }
    },
    {
      "cell_type": "markdown",
      "source": [
        "1. เขียนโปรแกรมสร้าง class ชื่อ People โดยมี attribute และ method ดังนี้\n",
        "\n",
        "```\n",
        "attribute\n",
        "ㆍname เป็นชื่อของบุคคล\n",
        "ㆍage เป็นอายุของบุคคล\n",
        "\n",
        "method\n",
        "ㆍintroduce() เมื่อเรียกใช้จะพิมพ์ข้อความ My name is <name>. I'm\n",
        "<age> years old\n",
        "```\n",
        "\n",
        "###ตัวอย่าง\n",
        "input\n",
        "```\n",
        "John = People('John', 23)\n",
        "John.introduce()\n",
        "```\n",
        "\n",
        "output\n",
        "```\n",
        "My name is John. I'm 23 years old.\n",
        "```"
      ],
      "metadata": {
        "id": "DirmVHupk1Ug"
      }
    },
    {
      "cell_type": "code",
      "source": [
        "# for the class"
      ],
      "metadata": {
        "id": "4HqqMQdmlu0v"
      },
      "execution_count": null,
      "outputs": []
    },
    {
      "cell_type": "code",
      "source": [
        "# for the running"
      ],
      "metadata": {
        "id": "4xCxm1bSmTZL"
      },
      "execution_count": null,
      "outputs": []
    },
    {
      "cell_type": "markdown",
      "source": [
        "2. attribute เขียนโปรแกรมสร้าง class ชื่อ Human โดยมี attribute และ method ดังนี้\n",
        "\n",
        "```\n",
        "attribute\n",
        "ㆍname เป็นชื่อของบุคคล\n",
        "ㆍage เป็นอายุของบุคคล\n",
        "\n",
        "method\n",
        "ㆍaging(years) รับ parameter 1 ตัว คือ years\n",
        "  - แสดงอายุปัจจุบัน\n",
        "  - เพิ่มอายุขึ้นเท่ากับ years\n",
        "  - แสดงอายุหลังเพิ่มแล้ว\n",
        "```\n",
        "\n",
        "###ตัวอย่าง\n",
        "input\n",
        "```\n",
        "John = Human('John', 23)\n",
        "John.aging(10)\n",
        "```\n",
        "\n",
        "output\n",
        "```\n",
        "Before: 23 years old\n",
        "After: 33 years old\n",
        "```"
      ],
      "metadata": {
        "id": "y0uF1z8Zm33i"
      }
    },
    {
      "cell_type": "code",
      "source": [
        "# for the class"
      ],
      "metadata": {
        "id": "qP9blICTsqzw"
      },
      "execution_count": null,
      "outputs": []
    },
    {
      "cell_type": "code",
      "source": [
        "# for the running"
      ],
      "metadata": {
        "id": "sj4LyMDysq0A"
      },
      "execution_count": null,
      "outputs": []
    },
    {
      "cell_type": "markdown",
      "source": [
        "3. เขียนโปรแกรมสร้าง class ชื่อ ComplexNumber โดยมี attribute และ\n",
        "method ดังนี้\n",
        "\n",
        "```\n",
        "attribute\n",
        "ㆍr เป็นค่าของส่วนจริง\n",
        "ㆍi เป็นค่าของส่วนจินตภาพ\n",
        "\n",
        "method\n",
        "ㆍget_value() ทำหน้าที่แสดงค่า canesian form เช่น 2+3i, 5-4i เป็นต้น\n",
        "โดยเมื่อเรียกใช้ get value() โปรแกรมจะพิมพ์ <r> + <i>i\n",
        "```\n",
        "\n",
        "###ตัวอย่าง\n",
        "input\n",
        "```\n",
        "Z = ComplexNumber(2, 4)\n",
        "Z.get_value()\n",
        "```\n",
        "\n",
        "output\n",
        "```\n",
        "2+4i\n",
        "```"
      ],
      "metadata": {
        "id": "EhkfvmuXoDXp"
      }
    },
    {
      "cell_type": "code",
      "source": [
        "# for the class"
      ],
      "metadata": {
        "id": "WlFd9_Jls27s"
      },
      "execution_count": null,
      "outputs": []
    },
    {
      "cell_type": "code",
      "source": [
        "# for the running"
      ],
      "metadata": {
        "id": "xzda77Gas27y"
      },
      "execution_count": null,
      "outputs": []
    },
    {
      "cell_type": "markdown",
      "source": [
        "4. เขียนโปรแกรมสร้าง class ชื่อ Circle โดยมี attribute และ method ดังนี้\n",
        "\n",
        "```\n",
        "attribute\n",
        "ㆍradius เป็นรัศมีของวงกลม\n",
        "\n",
        "method\n",
        "ㆍ get_areal() ทำหน้าที่แสดงค่าพื้นที่ของวงกลม (area = pi*radus**2)\n",
        "ㆍ get_perimeter() ทำหน้าที่แสดงค่าความยาวเส้นรอบวง (perimeter = 2*pi*radius)\n",
        "```\n",
        "\n",
        "###ตัวอย่าง\n",
        "input\n",
        "```\n",
        "circle_A = Circle(32)\n",
        "circle_B = Circle(16)\n",
        "print('Area Circle A :', circle_A.get_area())\n",
        "print('Perimeter Circle A :', circle_A.get_perimeter())\n",
        "print('Area Circle B , circle_B.get_area())\n",
        "print('Perimeter Circle B :', circle_B.get_perimeter())\n",
        "```\n",
        "\n",
        "output\n",
        "```\n",
        "Area Circle A : 3216.990877275948\n",
        "Perimeter Circle A : 201.06192982974676\n",
        "Area Circle B : 804.247719318987\n",
        "Perimeter Circle B:100.53096491487338\n",
        "```"
      ],
      "metadata": {
        "id": "9PiaDz3Cs4sh"
      }
    },
    {
      "cell_type": "code",
      "source": [
        "# for the class"
      ],
      "metadata": {
        "id": "4jVpKYE_2bOH"
      },
      "execution_count": null,
      "outputs": []
    },
    {
      "cell_type": "code",
      "source": [
        "# for the running"
      ],
      "metadata": {
        "id": "jRq3qGqU2bOI"
      },
      "execution_count": null,
      "outputs": []
    },
    {
      "cell_type": "markdown",
      "source": [
        "5. เขียนโปรแกรมสร้าง class ชื่อ Book โดยมี attribute และ method ดังนี้\n",
        "\n",
        "```\n",
        "attribute\n",
        "ㆍbook_name เป็นชื่อของหนังสือ\n",
        "ㆍbook status เป็นสถานะการยืมของหนังสือ โดย book status มีค่า\n",
        "default เป็น 'available'\n",
        "\n",
        "method\n",
        "ㆍborrow_book()\n",
        "  - ถ้า book_status เป็น 'available'\n",
        "    * ให้พิมพ์ 'borrow successfully'\n",
        "    * เปลี่ยน book status เป็น 'unavailable'\n",
        "  - แต่ถ้า เรียกใช้ตอนที่ book status เป็น 'unavailable'\n",
        "    * ให้พิมพ์ 'borrow unsuccessfully'\n",
        "ㆍ return_book()\n",
        "  - ถ้า book_status เป็น 'unavailable'\n",
        "    * ให้พิมพ์ 'return successfully'\n",
        "    * เปลี่ยน book_status เป็น 'available'\n",
        "  - แต่ถ้า เรียกใช้ตอนที่ book status เป็น 'available'\n",
        "    * ให้พิมพ์ 'return unsuccessfully'\n",
        "```\n",
        "\n",
        "###ตัวอย่าง\n",
        "input\n",
        "```\n",
        "Book_A = Book ('AI Superpowers')\n",
        "print('Book status :', Book_A.book_status)\n",
        "Book_A.borrow_book ()\n",
        "print(Book status :', Book_A.book_status)\n",
        "Book_A.return_book ()\n",
        "print('Book status :', Book_A.book_status)\n",
        "```\n",
        "\n",
        "output\n",
        "```\n",
        "Book status : available\n",
        "borrow successfully\n",
        "Book status : unavailable\n",
        "return successfully\n",
        "Book status : available\n",
        "```"
      ],
      "metadata": {
        "id": "WD2sjxHI2dHY"
      }
    },
    {
      "cell_type": "code",
      "source": [
        "# for the class"
      ],
      "metadata": {
        "id": "kZ2_er2m3eeH"
      },
      "execution_count": null,
      "outputs": []
    },
    {
      "cell_type": "code",
      "source": [
        "# for the running"
      ],
      "metadata": {
        "id": "BxKVTKaR3eeH"
      },
      "execution_count": null,
      "outputs": []
    },
    {
      "cell_type": "markdown",
      "source": [
        "6. เขียนโปรแกรมสร้าง class ชื่อ Car โดยมี attribute และ method ดังนี้\n",
        "\n",
        "```\n",
        "attribute\n",
        "ㆍbrand เป็นยี่ห้อของรถ\n",
        "ㆍmodel เป็นรุ่นของรถ\n",
        "ㆍyear เป็นปีของรถ\n",
        "ㆍcolor เป็นสีของรถ\n",
        "\n",
        "method\n",
        "ㆍnew_color(color) รับพารามิเตอร์ 1 ตัว ชื่อว่า color ทำหน้าที่แสดงสี\n",
        "ใหม่ของรถที่ต้องการเปลี่ยน\n",
        "```\n",
        "\n",
        "###ตัวอย่าง\n",
        "input\n",
        "```\n",
        "car_A = Car('Honda', 'Civic', '2019', 'Black')\n",
        "car_A.new_color ('Red')\n",
        "print('color =', car_A.color)\n",
        "```\n",
        "\n",
        "output\n",
        "```\n",
        "color = Red\n",
        "```"
      ],
      "metadata": {
        "id": "5rKYlvHH3pSJ"
      }
    },
    {
      "cell_type": "code",
      "source": [
        "# for the class"
      ],
      "metadata": {
        "id": "K2ZHpdMG4lcf"
      },
      "execution_count": null,
      "outputs": []
    },
    {
      "cell_type": "code",
      "source": [
        "# for the running"
      ],
      "metadata": {
        "id": "Pq543Mk14lcf"
      },
      "execution_count": null,
      "outputs": []
    },
    {
      "cell_type": "markdown",
      "source": [
        "7. เขียนโปรแกรมสร้าง class ชื่อ Dog โดยมี attribute และ method ดังนี้\n",
        "\n",
        "```\n",
        "attribute\n",
        "ㆍbreed เป็นพันธุ์สุนัข\n",
        "ㆍcolor เป็นสีของสุนัข\n",
        "ㆍheight เป็นส่วนสูง (หน่วยเซนติเมตร)\n",
        "ㆍweight เป็นน้ำหนัก (หน่วยกิโลกรัม)\n",
        "\n",
        "method\n",
        "ㆍgrowth() ทำหน้าที่แสดงความสูงและน้ำหนักที่เพิ่มขึ้นของสุนัขอย่างละ 10%\n",
        "```\n",
        "\n",
        "###ตัวอย่าง\n",
        "input\n",
        "```\n",
        "dog_A = Dog('Jack Russell Terrier', 'White', 30, 7)\n",
        "dog_A.growth ( )\n",
        "print ('height =', dog_A.height)\n",
        "print('weight =', dog_A.weight)\n",
        "```\n",
        "\n",
        "output\n",
        "```\n",
        "height = 33.0\n",
        "weight = 7.700000000000001\n",
        "```"
      ],
      "metadata": {
        "id": "t-1lx_5e4n0l"
      }
    },
    {
      "cell_type": "code",
      "source": [
        "# for the class"
      ],
      "metadata": {
        "id": "gys3DWkV76N7"
      },
      "execution_count": null,
      "outputs": []
    },
    {
      "cell_type": "code",
      "source": [
        "# for the running"
      ],
      "metadata": {
        "id": "3iXMxh7k76N7"
      },
      "execution_count": null,
      "outputs": []
    },
    {
      "cell_type": "markdown",
      "source": [
        "8. เขียนโปรแกรมสร้าง dass ชื่อ Stats โดยมี attibute และ method ดังนี้\n",
        "\n",
        "```\n",
        "attribute\n",
        "ㆍdata เป็น list ที่เก็บจำนวนใด ๆ\n",
        "\n",
        "method\n",
        "ㆍ mean() ทำหน้าที่คำนวณค่าเฉลี่ยของจำนวนใน data\n",
        "ㆍ min() ทำหน้าที่คำนวณค่าต่ำสุดของจำนวนวนใน data\n",
        "ㆍ max() ทำหน้าที่คำนวณค่าสูงสุดของจำนวนใน data\n",
        "ㆍ summary() ทำหน้าที่แสดงค่า mean, min และ max โดยเมื่อเรียกใช้\n",
        "โปรแกรมจะพิมพ์ Mean : <mean>, Min : <min> และ Max: <max> ออกมา\n",
        "```\n",
        "\n",
        "###ตัวอย่าง\n",
        "input\n",
        "```\n",
        "A = [1,5,7,9,11]\n",
        "stat_A = Stats(A)\n",
        "stat_A.summary()\n",
        "```\n",
        "\n",
        "output\n",
        "```\n",
        "Mean : 6.0\n",
        "Min : 1\n",
        "Max : 11\n",
        "```"
      ],
      "metadata": {
        "id": "Z2XG3oBs7-TQ"
      }
    },
    {
      "cell_type": "code",
      "source": [
        "# for the class"
      ],
      "metadata": {
        "id": "r9HvxpBw81Db"
      },
      "execution_count": null,
      "outputs": []
    },
    {
      "cell_type": "code",
      "source": [
        "# for the running"
      ],
      "metadata": {
        "id": "ZZiwmtGC81Dc"
      },
      "execution_count": null,
      "outputs": []
    },
    {
      "cell_type": "markdown",
      "source": [
        "9. เขียนโปรแกรมสร้าง class ชื่อ USDTHB โดยมี attribute และ method ดังนี้\n",
        "\n",
        "```\n",
        "attribute\n",
        "ㆍ amount เป็นจำนวนเงิน\n",
        "ㆍcurrency เป็นสกุลเงิน\n",
        "\n",
        "method\n",
        "ㆍ to_THB() ทำหน้าที่แปลงสกุลเงินไปเป็น THB\n",
        "ㆍ to_USD() ทำหน้าที่แปลงสกุลเงินไปเป็น USD\n",
        "(กำหนดให้ใช้อัตราแลกเปลี่ยน 1 USD = 30 THB)\n",
        "```\n",
        "\n",
        "###ตัวอย่าง\n",
        "input\n",
        "```\n",
        "money=USDTHB(300000, 'USD')\n",
        "print(money.amount, money.currency)\n",
        "money.to_THB()\n",
        "print(money.amount, money.currency)\n",
        "money.to_USD()\n",
        "print(money.amount, money.currency)\n",
        "```\n",
        "\n",
        "output\n",
        "```\n",
        "30000 USD\n",
        "900000 THB\n",
        "30000.0 USD\n",
        "```"
      ],
      "metadata": {
        "id": "4WYVnn4A9AWz"
      }
    },
    {
      "cell_type": "code",
      "source": [
        "# for the class"
      ],
      "metadata": {
        "id": "0tb71e1A96At"
      },
      "execution_count": null,
      "outputs": []
    },
    {
      "cell_type": "code",
      "source": [
        "# for the running"
      ],
      "metadata": {
        "id": "_Pz9eC2e96At"
      },
      "execution_count": null,
      "outputs": []
    },
    {
      "cell_type": "markdown",
      "source": [
        "10. เขียนโปรแกรมสร้าง class ชื่อ Cashier โดยมี attribute และ method ดังนี้\n",
        "\n",
        "```\n",
        "attribute\n",
        "ㆍproducts เป็น list ที่เก็บชื่อสินค้า\n",
        "\n",
        "method\n",
        "ㆍ recommend() ทำหน้าที่แนะนำสินค้า โดยเมื่อเมื่อเรียกใช้ โปรแกรมจะ\n",
        "พิมพ์ We have <product>. ออกมา\n",
        "```\n",
        "\n",
        "###ตัวอย่าง\n",
        "input\n",
        "```\n",
        "cashier = Cashier (['apple', 'banana', 'orange'])\n",
        "cashier.recommend()\n",
        "```\n",
        "\n",
        "output\n",
        "```\n",
        "We have apple, banana, orange.\n",
        "```"
      ],
      "metadata": {
        "id": "r7AKHVHb9_W1"
      }
    },
    {
      "cell_type": "code",
      "source": [
        "# for the class"
      ],
      "metadata": {
        "id": "3ynw_qpa_G2m"
      },
      "execution_count": null,
      "outputs": []
    },
    {
      "cell_type": "code",
      "source": [
        "# for the running"
      ],
      "metadata": {
        "id": "z36bEWd7_G2n"
      },
      "execution_count": null,
      "outputs": []
    },
    {
      "cell_type": "markdown",
      "source": [
        "11. เขียนโปรแกรมสร้าง class ชื่อ Warior โดยมี atribute และ method ดังนี้\n",
        "\n",
        "```\n",
        "attribute\n",
        "ㆍpower เป็นพลังโจมตี\n",
        "ㆍdefense เป็นพลังป้องกัน\n",
        "ㆍHP เป็นพลังชีวิต\n",
        "\n",
        "method\n",
        "ㆍ attack(warrior_object) ทำหน้าที่แสดงค่าพลังชีวิตหลังจากถูกโจมตี\n",
        "โดยที่\n",
        "  - ถ้า power < defense แล้ว HP จะไม่ลด\n",
        "  - ถ้า power > defense แล้ว HP จะมีค่าเท่ากับ HP-(power-defense)\n",
        "โดยเมื่อเรียกใช้ โปรแกรมจะแสดงค่า HP ออกมา และถ้า HP = 0 ให้\n",
        "พิมพ์ Enemy died ออกมา\n",
        "```\n",
        "\n",
        "###ตัวอย่าง\n",
        "input\n",
        "```\n",
        "Warrior_A Warrior(100,50,80)\n",
        "Warrior_B-Warrior(60, 80, 120)\n",
        "print( === Before Attack ===')\n",
        "print('Warrior_A HP =', Warrior_A.HP)\n",
        "print 'Warrior_B HP = , Warrior_B.HP)\n",
        "Warrior_B.attack (Warrior_B)\n",
        "Warrior_B.attack (Warrior_A)\n",
        "print(  === After Attack ===')\n",
        "print('Warrior_A HP =', Warrior_A.HP)\n",
        "print('Warrior_B HP =', Warrior_B.HP)\n",
        "```\n",
        "\n",
        "output\n",
        "```\n",
        "=== Before Attack ===\n",
        "Warrior_A HP = 80\n",
        "Warrior_B HP = 120\n",
        "=== After Attack ===\n",
        "Warrior_A HP = 70\n",
        "Warrior_B HP = 100\n",
        "```"
      ],
      "metadata": {
        "id": "Aog4TWe3-_G_"
      }
    },
    {
      "cell_type": "code",
      "source": [
        "# for the class"
      ],
      "metadata": {
        "id": "RxBi0ySRNZbC"
      },
      "execution_count": null,
      "outputs": []
    },
    {
      "cell_type": "code",
      "source": [
        "# for the running"
      ],
      "metadata": {
        "id": "uT6Tu-6yNZbC"
      },
      "execution_count": null,
      "outputs": []
    },
    {
      "cell_type": "markdown",
      "source": [
        "12. เขียนโปรแกรมสร้าง class Point โดยมี atribute และ method ดังนี้\n",
        "\n",
        "```\n",
        "attribute\n",
        "ㆍx เป็นค่าตามแกน x ในระนาบ 2 มิติ\n",
        "ㆍy เป็นค่าตามแกน y ในระนาบ 2 มิติ\n",
        "\n",
        "method\n",
        "ㆍ move_up(d) รับ parameter 1 ตัว คือ d\n",
        "  - เลื่อนตำแหน่งขึ้นตามแนวแกน y ไป d หน่วย\n",
        "  - พิมพ์ Current position : (<x>, <y>>) ออกมา\n",
        "ㆍ move_down(d) รับ parameter 1 ตัว คือ d\n",
        "  - เลื่อนตำแหน่งลงตามแนวแกน y ไป d หน่วย\n",
        "  - พิมพ์ Current position : (<x>, <y>>) ออกมา\n",
        "ㆍmove_left(d) รับ parameter 1 ตัว คือ d\n",
        "  - เลื่อนตำแหน่งไปทางซ้ายตามแนวแกน x ไป d หน่วย\n",
        "  - พิมพ์ Current position : (<x>, <y>) ออกมา\n",
        "```\n",
        "\n",
        "###ตัวอย่าง\n",
        "input\n",
        "```\n",
        "A = Point(0, 0)\n",
        "A.move_up(20)\n",
        "A.move_left(23)\n",
        "A.move_down(65)\n",
        "A.move_right(50)\n",
        "```\n",
        "\n",
        "output\n",
        "```\n",
        "Current position : (0,0)\n",
        "Current position : (0,20)\n",
        "Current position : (-23,20)\n",
        "Current position : (-23,-45)\n",
        "Current position : (27,-45)\n",
        "```"
      ],
      "metadata": {
        "id": "O4wYa0wSKNW4"
      }
    },
    {
      "cell_type": "code",
      "source": [
        "# for the class"
      ],
      "metadata": {
        "id": "Yk1bP4MWNbP4"
      },
      "execution_count": null,
      "outputs": []
    },
    {
      "cell_type": "code",
      "source": [
        "# for the running"
      ],
      "metadata": {
        "id": "4Xf8OfUvNbP5"
      },
      "execution_count": null,
      "outputs": []
    },
    {
      "cell_type": "markdown",
      "source": [
        "13. เขียนโปรแกรมสร้าง class ชื่อ Businessman โดยมี attribute และ method\n",
        "\n",
        "```\n",
        "attribute\n",
        "ㆍHP เป็นพลังชีวิต\n",
        "ㆍmoney เป็นพลังการเงิน\n",
        "ㆍhappiness เป็นพลังความสุข\n",
        "\n",
        "method\n",
        "ㆍwork() ทำหน้าที่แสดงค่าพลังชีวิต การเงิน และความสุข หลังจากผ่าน\n",
        "การทำงาน โดยจะเพิ่ม money 20 หน่วย และ happiness 10 หน่วย\n",
        "แต่จะลด HP 10 หน่วย\n",
        "ㆍsleep() ทำหน้าที่แสดงค่าพลังชีวิต การเงิน และความสุข หลังจากผ่าน\n",
        "การนอนหลับ โดยจะเพิ่ม HP 20 หน่วย และ happiness 10 หน่ว\n",
        "จะลด money 10 หน่วย\n",
        "ㆍplay() ทำหน้าที่แสดงค่าพลังชีวิต การเงิน และความสุข หลังจากผ่าน\n",
        "การเล่นเกม โดยจะลด HP และ money 10 หน่วย แต่จะเพิ่ม happi\n",
        "ness 20 หน่วย\n",
        "```\n",
        "\n",
        "###ตัวอย่าง\n",
        "input\n",
        "```\n",
        "John = Businessman(100,100,100)\n",
        "John.work()\n",
        "John.report()\n",
        "John.play()\n",
        "John.report()\n",
        "John.sleep()\n",
        "John.report()\n",
        "```\n",
        "\n",
        "output\n",
        "```\n",
        "HP = 100, Money = 100, Happiness = 100\n",
        "HP = 90, Money = 120, Happiness = 110\n",
        "HP = 80, Money = 110, Happiness = 130\n",
        "HP = 100, Money = 100, Happiness = 140\n",
        "```\n",
        "\n",
        "\n"
      ],
      "metadata": {
        "id": "r7tPsCtXNjoR"
      }
    },
    {
      "cell_type": "markdown",
      "source": [
        "14. เขียนโปรแกรมสร้าง class ชื่อ Driver โดยมี attribute และ method ดังนี้\n",
        "\n",
        "```\n",
        "attribute\n",
        "ㆍHP เป็นพลังชีวิต\n",
        "ㆍgenerated_money เป็นเงินที่หาได้\n",
        "\n",
        "method\n",
        "ㆍ dive() ทำหน้าที่แสดงค่าพลังชีวิต และเงินที่หามาได้ หลังจากขับแท็กซี่\n",
        "โดยจะลด HP 10 หน่วย แต่จะเพิ่ม generated_money 10 หน่วย\n",
        "ㆍcare() ทำหน้าที่แสดงค่าพลังชีวิต และเงินที่หามาได้ หลังจากพักผ่อน\n",
        "โดยจะเพิ่ม HP 10 หน่วย แต่จะลด generated_money 10 หน่วย\n",
        "```\n",
        "\n",
        "###ตัวอย่าง\n",
        "input\n",
        "```\n",
        "driver_A = Driver(100,100)\n",
        "driver_A.drive()\n",
        "driver_A.report()\n",
        "driver_A.care()\n",
        "driver_A.report()\n",
        "```\n",
        "\n",
        "output\n",
        "```\n",
        "HP = 90, Generated Money = 110\n",
        "HP = 100, Generated Money = 100\n",
        "```"
      ],
      "metadata": {
        "id": "3KnPX-RsOdRv"
      }
    },
    {
      "cell_type": "code",
      "source": [
        "# for the class"
      ],
      "metadata": {
        "id": "hEpl1_PPPyGB"
      },
      "execution_count": null,
      "outputs": []
    },
    {
      "cell_type": "code",
      "source": [
        "# for the running"
      ],
      "metadata": {
        "id": "6fzdvmqrPyGB"
      },
      "execution_count": null,
      "outputs": []
    },
    {
      "cell_type": "markdown",
      "source": [
        "15. เขียนโปรแกรมสร้าง class Tree โดยมี atribute และ method ดังนี้\n",
        "\n",
        "```\n",
        "attribute\n",
        "ㆍheight เป็นความสูงต้นไม้\n",
        "ㆍwidth เป็นความกว้างต้นไม้\n",
        "ㆍ generated_money เป็นเงินที่หาได้\n",
        "\n",
        "method\n",
        "ㆍ feed A() ทำหน้าที่แสดงค่าเงินที่หาได้ และความกว้างของต้นไม้หลัง\n",
        "จากให้ปุ๋ยชนิด A โดยจะลด generated_money 10 หน่วย แต่จะเพิ่ม\n",
        "width 12 หน่วย\n",
        "ㆍ feed_B() ทำหน้าที่แสดงค่าเงินที่หาได้ และความสูงของต้นไม้หลังจาจาก\n",
        "ให้ปุ๋ยชนิด B โดยจะลด generated_money 8 หน่วย แต่จะเพิ่ม height\n",
        "10 หน่วย\n",
        "ㆍ sell() ทำหน้าที่แสดงค่าจำนวนเงินที่ขายต้นไม้ได้ โดย gener-\n",
        "ated_money จะเพิ่มเท่ากับ width height*0.8\n",
        "```\n",
        "\n",
        "\n",
        "###ตัวอย่าง\n",
        "input\n",
        "```\n",
        "tree_A = Tree (10,10, 1000)\n",
        "tree_A.feed_A()\n",
        "tree_A.feed_B()\n",
        "tree_A.sell()\n",
        "```\n",
        "\n",
        "output\n",
        "```\n",
        "Width = 22, Height = 20\n",
        "Generated money = 1223.683319527346\n",
        "```"
      ],
      "metadata": {
        "id": "AgAG3NTjP4yK"
      }
    },
    {
      "cell_type": "code",
      "source": [
        "# for the class"
      ],
      "metadata": {
        "id": "R7WpFq-WP6SS"
      },
      "execution_count": null,
      "outputs": []
    },
    {
      "cell_type": "code",
      "source": [
        "# for the running"
      ],
      "metadata": {
        "id": "zcdRuWDhP6Sf"
      },
      "execution_count": null,
      "outputs": []
    }
  ]
}
{
  "nbformat": 4,
  "nbformat_minor": 0,
  "metadata": {
    "colab": {
      "provenance": []
    },
    "kernelspec": {
      "name": "python3",
      "display_name": "Python 3"
    },
    "language_info": {
      "name": "python"
    }
  },
  "cells": [
    {
      "cell_type": "code",
      "execution_count": null,
      "metadata": {
        "id": "HxrgIm4X-X3I"
      },
      "outputs": [],
      "source": [
        "#1\n",
        "if condition1:\n",
        "  operation1\n",
        "else:\n",
        "  operation2\n",
        "operation3"
      ]
    },
    {
      "cell_type": "markdown",
      "source": [],
      "metadata": {
        "id": "kl0m5t3_3m5p"
      }
    },
    {
      "cell_type": "code",
      "source": [
        "#2\n",
        "if condition1:\n",
        "  operation1\n",
        "else:\n",
        "  operation2"
      ],
      "metadata": {
        "id": "Ouzt1oBX_e9u"
      },
      "execution_count": null,
      "outputs": []
    },
    {
      "cell_type": "markdown",
      "source": [],
      "metadata": {
        "id": "jBdHH2Wi_nz2"
      }
    },
    {
      "cell_type": "code",
      "source": [
        "#3\n",
        "if condition1:\n",
        "  operation1\n",
        "operation2"
      ],
      "metadata": {
        "id": "nBKwwjqP_oQd"
      },
      "execution_count": null,
      "outputs": []
    },
    {
      "cell_type": "markdown",
      "source": [],
      "metadata": {
        "id": "47XqZ4or_wsV"
      }
    },
    {
      "cell_type": "code",
      "source": [
        "#4\n",
        "if condition1:\n",
        "  operation1"
      ],
      "metadata": {
        "id": "YPUtVmUY_wWN"
      },
      "execution_count": null,
      "outputs": []
    },
    {
      "cell_type": "markdown",
      "source": [],
      "metadata": {
        "id": "bvgq2oqH_4le"
      }
    },
    {
      "cell_type": "code",
      "source": [
        "#5\n",
        "if condition1:\n",
        "  operation1\n",
        "elif condition2:\n",
        "  operation2\n",
        "else:\n",
        "  operation3\n",
        "operation4"
      ],
      "metadata": {
        "id": "ZTyFZWXY_5Jm"
      },
      "execution_count": null,
      "outputs": []
    },
    {
      "cell_type": "markdown",
      "source": [],
      "metadata": {
        "id": "w15Nx_g7AGNk"
      }
    },
    {
      "cell_type": "code",
      "source": [
        "#6\n",
        "if condition1:\n",
        "  operation1\n",
        "elif condition2:\n",
        "  operation2\n",
        "else:\n",
        "  operation3"
      ],
      "metadata": {
        "id": "ppchLzfLAHUU"
      },
      "execution_count": null,
      "outputs": []
    },
    {
      "cell_type": "markdown",
      "source": [],
      "metadata": {
        "id": "Nj4Erw82APFt"
      }
    },
    {
      "cell_type": "code",
      "source": [
        "#7\n",
        "if condition1:\n",
        "  operation1\n",
        "  operation2\n",
        "elif condition2:\n",
        "  operation3\n",
        "elif condition3:\n",
        "  operation4\n",
        "else:\n",
        "  operation5\n",
        "operation6"
      ],
      "metadata": {
        "id": "-s8viA2WAOx9"
      },
      "execution_count": null,
      "outputs": []
    },
    {
      "cell_type": "markdown",
      "source": [],
      "metadata": {
        "id": "xD1ZXHlkAyXu"
      }
    },
    {
      "cell_type": "code",
      "source": [
        "#8\n",
        "if condition1:\n",
        "  operation1\n",
        "elif condition2:\n",
        "  operation2\n",
        "elif condition3:\n",
        "  operation3\n",
        "else:\n",
        "  operation4"
      ],
      "metadata": {
        "id": "sS_RO2ekA0M1"
      },
      "execution_count": null,
      "outputs": []
    },
    {
      "cell_type": "markdown",
      "source": [],
      "metadata": {
        "id": "hS7U7GvrBA0-"
      }
    },
    {
      "cell_type": "code",
      "source": [
        "#9\n",
        "if condition1:\n",
        "  operation1\n",
        "elif condition2:\n",
        "  operation2\n",
        "operation3"
      ],
      "metadata": {
        "id": "MlSNj6tYBBXu"
      },
      "execution_count": null,
      "outputs": []
    },
    {
      "cell_type": "markdown",
      "source": [],
      "metadata": {
        "id": "z5mHLgopBLl2"
      }
    },
    {
      "cell_type": "code",
      "source": [
        "#10\n",
        "if condition1:\n",
        "  operation1\n",
        "  operation2\n",
        "elif condition2:\n",
        "  operation3"
      ],
      "metadata": {
        "id": "pFskMrdpBMQF"
      },
      "execution_count": null,
      "outputs": []
    },
    {
      "cell_type": "markdown",
      "source": [],
      "metadata": {
        "id": "Ypttnk_vBT_T"
      }
    },
    {
      "cell_type": "code",
      "source": [
        "#11\n",
        "if condition1:\n",
        "  operation1\n",
        "elif condition2:\n",
        "  operation2\n",
        "elif condition3:\n",
        "  operation3\n",
        "operation4"
      ],
      "metadata": {
        "id": "jzRs2CS4BUnF"
      },
      "execution_count": null,
      "outputs": []
    },
    {
      "cell_type": "markdown",
      "source": [],
      "metadata": {
        "id": "lnwLb6zSBxGt"
      }
    },
    {
      "cell_type": "code",
      "source": [
        "#12\n",
        "if condition1:\n",
        "  operation1\n",
        "  operation2\n",
        "elif condition2:\n",
        "  operation3\n",
        "elif condition3:\n",
        "  operation4"
      ],
      "metadata": {
        "id": "aYK-OuVhBxw3"
      },
      "execution_count": null,
      "outputs": []
    },
    {
      "cell_type": "markdown",
      "source": [],
      "metadata": {
        "id": "WL4Szv8ZB9om"
      }
    },
    {
      "cell_type": "code",
      "source": [
        "#13\n",
        "if condition1:\n",
        "  if condition2:\n",
        "    operation1\n",
        "  operation2\n",
        "else:\n",
        "  operation3\n",
        "  if condition3:\n",
        "    operation4\n",
        "  elif condition4:\n",
        "    operation5\n",
        "    operation6\n",
        "operation7"
      ],
      "metadata": {
        "id": "IvvD9XbEB-ZO"
      },
      "execution_count": null,
      "outputs": []
    },
    {
      "cell_type": "markdown",
      "source": [],
      "metadata": {
        "id": "4-3ADxmvCJWD"
      }
    },
    {
      "cell_type": "code",
      "source": [
        "#14\n",
        "if condition1:\n",
        "  operation1\n",
        "  if condition2:\n",
        "    operation2\n",
        "  else:\n",
        "    operation3\n",
        "  operation4\n",
        "  operation5\n",
        "else:\n",
        "  if condition3:\n",
        "    operation6\n",
        "  else:\n",
        "    operation7\n",
        "operation8"
      ],
      "metadata": {
        "id": "mt8UW7QDCJ51"
      },
      "execution_count": null,
      "outputs": []
    },
    {
      "cell_type": "markdown",
      "source": [],
      "metadata": {
        "id": "w8DksjfRC9TO"
      }
    },
    {
      "cell_type": "code",
      "source": [
        "#15\n",
        "if condition1:\n",
        "  if condition2:\n",
        "    operation1\n",
        "  elif condition3:\n",
        "    operation2\n",
        "  else:\n",
        "    operation3\n",
        "else:\n",
        "  operation4\n",
        "  if condition4:\n",
        "    operation5\n",
        "    operation6\n",
        "  operation7\n",
        "  operation8\n",
        "operation9"
      ],
      "metadata": {
        "id": "1VGUWXWIC98-"
      },
      "execution_count": null,
      "outputs": []
    },
    {
      "cell_type": "markdown",
      "source": [],
      "metadata": {
        "id": "tqHUpeo5DgM9"
      }
    },
    {
      "cell_type": "code",
      "source": [
        "#16\n",
        "if condition1:\n",
        "  operation1\n",
        "  if condition2:\n",
        "    operation2\n",
        "  elif condition3:\n",
        "    operation3\n",
        "  else:\n",
        "    operation4\n",
        "else:\n",
        "  if condition4:\n",
        "    operation5\n",
        "  elif condition5:\n",
        "    operation6\n",
        "  operation7\n",
        "operation8"
      ],
      "metadata": {
        "id": "mFtahhMZDixd"
      },
      "execution_count": null,
      "outputs": []
    },
    {
      "cell_type": "markdown",
      "source": [],
      "metadata": {
        "id": "9bHeeSEpFejW"
      }
    },
    {
      "cell_type": "code",
      "source": [
        "#17\n",
        "if condition1:\n",
        "  operation1\n",
        "  operation2\n",
        "  if condition2:\n",
        "    operation3\n",
        "  operation4\n",
        "operation5"
      ],
      "metadata": {
        "id": "gCqT4bkcFe4-"
      },
      "execution_count": null,
      "outputs": []
    },
    {
      "cell_type": "markdown",
      "source": [],
      "metadata": {
        "id": "k7XZP6ufFmTe"
      }
    },
    {
      "cell_type": "code",
      "source": [
        "#18\n",
        "if condition1:\n",
        "  operation1\n",
        "if condition2:\n",
        "  operation2\n",
        "else:\n",
        "  operation3\n",
        "operation4\n",
        "operation5"
      ],
      "metadata": {
        "id": "Qm7_6QKJFr7k"
      },
      "execution_count": null,
      "outputs": []
    },
    {
      "cell_type": "markdown",
      "source": [],
      "metadata": {
        "id": "Dz5Nr0vsF0Ju"
      }
    },
    {
      "cell_type": "code",
      "source": [
        "#19\n",
        "if condition1:\n",
        "  if condition2:\n",
        "    operation1\n",
        "elif condition3:\n",
        "  operation2\n",
        "  if condition4:\n",
        "    operation3\n",
        "  elif condition5:\n",
        "    operation4\n",
        "  operation5\n",
        "else:\n",
        "  if condition6:\n",
        "    operation6\n",
        "operation7\n",
        "operation8"
      ],
      "metadata": {
        "id": "EKVTXjkXF0te"
      },
      "execution_count": null,
      "outputs": []
    },
    {
      "cell_type": "markdown",
      "source": [],
      "metadata": {
        "id": "9sS3U34MGQPH"
      }
    },
    {
      "cell_type": "code",
      "source": [
        "#20\n",
        "if condition1:\n",
        "  if condition2:\n",
        "    operation1\n",
        "  else:\n",
        "    operation2\n",
        "elif condition3:\n",
        "  operation3\n",
        "  if condition4:\n",
        "    operation4\n",
        "    operation5\n",
        "  elif condition5:\n",
        "    operation6\n",
        "  operation7\n",
        "  operation8\n",
        "else:\n",
        "  if condition6:\n",
        "    operation9\n",
        "    operation10\n",
        "  elif condition7:\n",
        "    operation11\n",
        "  operation12\n",
        "operation13"
      ],
      "metadata": {
        "id": "IhYGy-hMGTCe"
      },
      "execution_count": null,
      "outputs": []
    },
    {
      "cell_type": "markdown",
      "source": [],
      "metadata": {
        "id": "R-lRhX2kGpG2"
      }
    },
    {
      "cell_type": "code",
      "source": [
        "#21\n",
        "if conditionl:\n",
        "  if condition2:\n",
        "    operation1\n",
        "    operation2\n",
        "  elif condition3:\n",
        "    operation3\n",
        "  else:\n",
        "    operation4\n",
        "elif condition4:\n",
        "  if condition5:\n",
        "    operation5\n",
        "    operation6\n",
        "  elif condition6:\n",
        "    operation7\n",
        "else:\n",
        "    operation8\n",
        "    operation9\n",
        "    if condition7:\n",
        "      operation10\n",
        "      operation11\n",
        "    else:\n",
        "      operation12\n",
        "      operation13\n",
        "operation14"
      ],
      "metadata": {
        "id": "YhvPyLBfGpmG"
      },
      "execution_count": null,
      "outputs": []
    },
    {
      "cell_type": "markdown",
      "source": [],
      "metadata": {
        "id": "KFkgmqmbIgR_"
      }
    },
    {
      "cell_type": "code",
      "source": [
        "#22\n",
        "if condition1:\n",
        "  operation1\n",
        "  if condition2:\n",
        "    operation2\n",
        "  operation3\n",
        "elif condition3:\n",
        "  operation4\n",
        "  if condition4:\n",
        "    operation5\n",
        "  elif condition5:\n",
        "    operation6\n",
        "  else:\n",
        "    operation7\n",
        "    operation8\n",
        "  operation9\n",
        "else:\n",
        "  if condition6:\n",
        "    operation10\n",
        "  elif condition7:\n",
        "    operation11\n",
        "operation12"
      ],
      "metadata": {
        "id": "-AJmc6TWIgnO"
      },
      "execution_count": null,
      "outputs": []
    },
    {
      "cell_type": "markdown",
      "source": [],
      "metadata": {
        "id": "A7uc7HbVM-lo"
      }
    },
    {
      "cell_type": "code",
      "source": [
        "#23\n",
        "if condition1:\n",
        "  if condition2:\n",
        "    operation1\n",
        "  elif condition3:\n",
        "    operation2\n",
        "  else:\n",
        "    operation3\n",
        "elif condition4:\n",
        "  if condition5:\n",
        "    operation4\n",
        "  else:\n",
        "    operation5\n",
        "    operation6\n",
        "else:\n",
        "  if condition6:\n",
        "    operation7\n",
        "operation8"
      ],
      "metadata": {
        "id": "JhlqkWsiM_Bf"
      },
      "execution_count": null,
      "outputs": []
    },
    {
      "cell_type": "markdown",
      "source": [],
      "metadata": {
        "id": "t9OyJwbjOCFQ"
      }
    },
    {
      "cell_type": "code",
      "source": [
        "#24\n",
        "if condition1:\n",
        "  if condition2:\n",
        "    operation1\n",
        "elif condition3:\n",
        "  operation2\n",
        "  if condition4:\n",
        "    operation3\n",
        "  elif condition5:\n",
        "    operation4\n",
        "  else:\n",
        "    operation5\n",
        "  operation6\n",
        "else:\n",
        "  if condition6:\n",
        "    operation7\n",
        "    operation8\n",
        "operation9\n",
        "operation10"
      ],
      "metadata": {
        "id": "ukH9Pwr_OCcg"
      },
      "execution_count": null,
      "outputs": []
    },
    {
      "cell_type": "markdown",
      "source": [],
      "metadata": {
        "id": "wi8Ncl_jOU_4"
      }
    },
    {
      "cell_type": "code",
      "source": [
        "#25\n",
        "if condition1:\n",
        "  operation1\n",
        "  operation2\n",
        "  if condition2:\n",
        "    operation3\n",
        "  operation4\n",
        "elif condition3:\n",
        "  operation5\n",
        "  operation6\n",
        "  if condition4:\n",
        "    operation7\n",
        "  operation8\n",
        "operation9"
      ],
      "metadata": {
        "id": "JYYQVQs2OVZX"
      },
      "execution_count": null,
      "outputs": []
    },
    {
      "cell_type": "markdown",
      "source": [],
      "metadata": {
        "id": "uHZjo1aeOkKw"
      }
    },
    {
      "cell_type": "code",
      "source": [
        "#26\n",
        "if condition1:\n",
        "  operation1\n",
        "  operation2\n",
        "  if condition2:\n",
        "    operation3\n",
        "    operation4\n",
        "  elif condition3:\n",
        "    operation5\n",
        "  else:\n",
        "    operation6\n",
        "  operation7\n",
        "  operation8\n",
        "elif condition4:\n",
        "  operation9\n",
        "  if condition5:\n",
        "    operation10\n",
        "  elif condition6:\n",
        "    operation11\n",
        "    operation12\n",
        "  operation13\n",
        "operation14"
      ],
      "metadata": {
        "id": "xj4fYi9UOmQ9"
      },
      "execution_count": null,
      "outputs": []
    },
    {
      "cell_type": "markdown",
      "source": [],
      "metadata": {
        "id": "-RyqrdUKQGMI"
      }
    },
    {
      "cell_type": "code",
      "source": [
        "#27\n",
        "if condition1:\n",
        "  if condition2:\n",
        "    operation1\n",
        "  else:\n",
        "    operation2\n",
        "elif condition3:\n",
        "  if condition4:\n",
        "    operation3\n",
        "    elif condition5:\n",
        "      operation4\n",
        "    operation5\n",
        "operation6"
      ],
      "metadata": {
        "id": "7CFgPd_qQJ8A"
      },
      "execution_count": null,
      "outputs": []
    },
    {
      "cell_type": "markdown",
      "source": [],
      "metadata": {
        "id": "5rU83alug4N-"
      }
    },
    {
      "cell_type": "code",
      "source": [
        "#28\n",
        "if condition1:\n",
        "  operation1\n",
        "  if condition2:\n",
        "    operation2\n",
        "  operation3\n",
        "elif condition3:\n",
        "  operation4\n",
        "  if condition4:\n",
        "    operation5\n",
        "operation6"
      ],
      "metadata": {
        "id": "fzjWz_jCg4wV"
      },
      "execution_count": null,
      "outputs": []
    },
    {
      "cell_type": "markdown",
      "source": [],
      "metadata": {
        "id": "gYQpT1nyhRBe"
      }
    },
    {
      "cell_type": "code",
      "source": [
        "#29\n",
        "if condition1:\n",
        "  if condition2:\n",
        "    if condition3:\n",
        "      operation1\n",
        "      operation2\n",
        "    else:\n",
        "      operation3\n",
        "    operation4\n",
        "  else:\n",
        "    operation5\n",
        "    if condition4:\n",
        "      operation6\n",
        "      operation7\n",
        "  operation8\n",
        "else:\n",
        "  operation9\n",
        "  if condition5:\n",
        "    if condition6:\n",
        "      operation10\n",
        "  else:\n",
        "    if condition7:\n",
        "      operation11\n",
        "    operation12\n",
        "  operation13\n",
        "operation14\n",
        "operation15\n"
      ],
      "metadata": {
        "id": "mj631A7phRpk"
      },
      "execution_count": null,
      "outputs": []
    },
    {
      "cell_type": "markdown",
      "source": [],
      "metadata": {
        "id": "vEupCGdSjJA2"
      }
    },
    {
      "cell_type": "code",
      "source": [
        "#30\n",
        "if condition1:\n",
        "  operation1\n",
        "  if condition2:\n",
        "    if condition3:\n",
        "      operation2\n",
        "      operation3\n",
        "    operation4\n",
        "  else:\n",
        "    if condition4:\n",
        "      operation5\n",
        "    else:\n",
        "      operation6\n",
        "  operation7\n",
        "operation8"
      ],
      "metadata": {
        "id": "4PpZHAT8jJke"
      },
      "execution_count": null,
      "outputs": []
    }
  ]
}
{
  "nbformat": 4,
  "nbformat_minor": 0,
  "metadata": {
    "colab": {
      "provenance": []
    },
    "kernelspec": {
      "name": "python3",
      "display_name": "Python 3"
    },
    "language_info": {
      "name": "python"
    }
  },
  "cells": [
    {
      "cell_type": "markdown",
      "source": [
        "## โจทย์เรื่องการตั้งค่า Data Structure\n",
        "จงเลือกตอบคำถามต่อไปนี้"
      ],
      "metadata": {
        "id": "t0gYQchPHAND"
      }
    },
    {
      "cell_type": "markdown",
      "source": [
        "## Numeric"
      ],
      "metadata": {
        "id": "AMg0qzU7Ic-i"
      }
    },
    {
      "cell_type": "markdown",
      "source": [
        "1. >เขียนโปรแกรมสร้างตัวแปรชื่อ numeric1 และกำหนดค่าให้เท่ากับ 5 หลังจากนั้นให้ทำการพิมพ์ค่าและชนิดข้อมูลของ numeric1 ออกมา"
      ],
      "metadata": {
        "id": "ofwgNyIpHse4"
      }
    },
    {
      "cell_type": "code",
      "source": [],
      "metadata": {
        "id": "_YfY4oLdHr5i"
      },
      "execution_count": null,
      "outputs": []
    },
    {
      "cell_type": "markdown",
      "source": [
        "2. > เขียนโปรแกรมสร้างตัวแปรชื่อ numeric2 และกำหนดค่าให้เท่ากับ -3 หลัง\n",
        "จากนั้นให้ทำการพิมพ์ค่าและชนิดข้อมูลของ numeric2 ออกมา"
      ],
      "metadata": {
        "id": "eD-WBDCmIOco"
      }
    },
    {
      "cell_type": "code",
      "source": [],
      "metadata": {
        "id": "elK7BcDJHqyi"
      },
      "execution_count": null,
      "outputs": []
    },
    {
      "cell_type": "markdown",
      "source": [
        "3. > เขียนโปรแกรมสร้างตัวแปรชื่อ nนmeric3 และกำหนดค่าให้เท่ากับ 0 หลังจาก\n",
        "นั้นให้ทำการพิมพ์ค่าและชนิดข้อมูลของ numeric3 ออกมา"
      ],
      "metadata": {
        "id": "0jsENFp2IX-j"
      }
    },
    {
      "cell_type": "code",
      "execution_count": null,
      "metadata": {
        "id": "0n0fmJ15G9lP"
      },
      "outputs": [],
      "source": []
    },
    {
      "cell_type": "markdown",
      "source": [
        "4. > เขียนโปรแกรมรับอินพุต 1 ตัวที่เป็นจำนวนเต็ม หลังจากนั้นให้ทำการพิมพ์ค่าและชนิดข้อมูลของจำนวนที่รับออกมา"
      ],
      "metadata": {
        "id": "VEEcwRqKIoyj"
      }
    },
    {
      "cell_type": "code",
      "source": [],
      "metadata": {
        "id": "Z8pusyKUI6dZ"
      },
      "execution_count": null,
      "outputs": []
    },
    {
      "cell_type": "markdown",
      "source": [
        "5. > เขียนโปรแกรมสร้างตัวแปรชื่อ numeric1 และกำหนดค่าให้เท่ากับ 5.0 หลัง\n",
        "จากนั้นให้ทำการพิมพ์ค่าและชนิดข้อมูลของ numeric1 ออกมา"
      ],
      "metadata": {
        "id": "jg5ammGXI6wj"
      }
    },
    {
      "cell_type": "code",
      "source": [],
      "metadata": {
        "id": "JLqn2PNDJCNj"
      },
      "execution_count": null,
      "outputs": []
    },
    {
      "cell_type": "markdown",
      "source": [
        "6. > เขียนโปรแกรมสร้างตัวแปรชื่อ numeric2 และกำหนดค่าให้เท่ากับ -3.1 หลัง\n",
        "จากนั้นให้ทำการพิมพ์ค่าและชนิดข้อมูลของ numeric2 ออกมา"
      ],
      "metadata": {
        "id": "0lPAnZ_MJEg7"
      }
    },
    {
      "cell_type": "code",
      "source": [],
      "metadata": {
        "id": "CYzeOq6-J0TB"
      },
      "execution_count": null,
      "outputs": []
    },
    {
      "cell_type": "markdown",
      "source": [
        "7. > เขียนโปรแกรมสร้างตัวแปรชื่อ numeric3 และกำหนดค่าให้เท่ากับ 0.0 หลัง\n",
        "จากนั้นให้ทำการพิมพ์ค่าและชนิดข้อมูลของ numeric3 ออกมา"
      ],
      "metadata": {
        "id": "WjOI-aZkJSlb"
      }
    },
    {
      "cell_type": "code",
      "source": [],
      "metadata": {
        "id": "6i4_EY1ZJ0zE"
      },
      "execution_count": null,
      "outputs": []
    },
    {
      "cell_type": "markdown",
      "source": [
        "8. > เขียนโปรแกรมรับอินพุต 1 ตัวที่เป็นจำนวนจริง หลังจากนั้นให้ทำการพิมพ์ค่า\n",
        "และชนิดข้อมูลของจำนวนที่รับออกมา"
      ],
      "metadata": {
        "id": "WcXzDcFlJ45p"
      }
    },
    {
      "cell_type": "code",
      "source": [],
      "metadata": {
        "id": "-UrtWzqjKEi8"
      },
      "execution_count": null,
      "outputs": []
    },
    {
      "cell_type": "markdown",
      "source": [
        "9. > เขียนโปรแกรมรับอินพุต 2 ตัวที่เป็นจำนวนเต็ม (int1, int2) ให้คำนวณผลบวก,\n",
        "ผลลบ, ผลคูณ และผลหารของจำนวนที่รับมา หลังจากนั้นให้พิมพ์ค่าและชนิด\n",
        "ข้อมูลของทุกผลลัพธ์ออกมา"
      ],
      "metadata": {
        "id": "FwuK8OT0KDob"
      }
    },
    {
      "cell_type": "code",
      "source": [],
      "metadata": {
        "id": "v9TcUEnTKAR8"
      },
      "execution_count": null,
      "outputs": []
    },
    {
      "cell_type": "markdown",
      "source": [
        "10. > เขียนโปรแกรมรับอินพุต 2 ตัวที่เป็นจำนวนจริง (float1, float2) ให้คำนวณ\n",
        "ผลบวก, ผลลบ, ผลคูณ และผลหารของจำนวนที่รับมา หลังจากนั้นให้พิมพ์ค่า\n",
        "และชนิดข้อมูลของทุกผลลัพธ์ออกมา"
      ],
      "metadata": {
        "id": "FXHm_NXkKT4U"
      }
    },
    {
      "cell_type": "code",
      "source": [],
      "metadata": {
        "id": "z__fp-mBKYKb"
      },
      "execution_count": null,
      "outputs": []
    },
    {
      "cell_type": "markdown",
      "source": [
        "11. > เขียนโปรแกรมรับอินพุต 2 ตัวที่เป็นจำนวนเต็มและจำนวนจริง (int1, float1)\n",
        "ให้คำนวณผลบวก, ผลลบ, ผลคูณ และผลหารของจำนวนที่รับมา หลังจากนั้น\n",
        "ให้พิมพ์ค่าและชนิดข้อมูลของทุกผลลัพธ์ออกมา"
      ],
      "metadata": {
        "id": "X-7DCBxoKXfE"
      }
    },
    {
      "cell_type": "code",
      "source": [],
      "metadata": {
        "id": "6kJw_TX7Kxpj"
      },
      "execution_count": null,
      "outputs": []
    },
    {
      "cell_type": "markdown",
      "source": [
        "12. > เขียนโปรแกรมสร้างตัวแปรชื่อ logic1 และกำหนดค่าให้เท่ากับ True หลังจาก\n",
        "นั้นให้ทำการพิมพ์ค่าและชนิดข้อมูลของ logic1 ออกมา"
      ],
      "metadata": {
        "id": "F1kwJfxNK0lU"
      }
    },
    {
      "cell_type": "code",
      "source": [],
      "metadata": {
        "id": "fzGIoennLGqq"
      },
      "execution_count": null,
      "outputs": []
    },
    {
      "cell_type": "markdown",
      "source": [
        "13. > เขียนโปรแกรมสร้างตัวแปรชื่อ logic2 และกำหนดค่าให้เท่ากับ False หลัง\n",
        "จากนั้นให้ทำการพิมพ์ค่าและชนิดข้อมูลของ logic2 ออกมา"
      ],
      "metadata": {
        "id": "hobFlDw1LHvR"
      }
    },
    {
      "cell_type": "code",
      "source": [],
      "metadata": {
        "id": "AgP0vOrQLQhU"
      },
      "execution_count": null,
      "outputs": []
    },
    {
      "cell_type": "markdown",
      "source": [
        "14. > กำหนดให้ logic1 = True และ logic2 = False เขียนโปรแกรมเพื่อนำค่าความ\n",
        "จริงทั้งสองมาดำเนินการด้วยคำสั่ง \"และ\" หลังจากนั้นให้ทำการพิมพ์ค่ความ\n",
        "จริงที่ได้จากการดำเนินการออกมา"
      ],
      "metadata": {
        "id": "25kBis6mLT8b"
      }
    },
    {
      "cell_type": "code",
      "source": [],
      "metadata": {
        "id": "1tt3XbLgLYsb"
      },
      "execution_count": null,
      "outputs": []
    },
    {
      "cell_type": "markdown",
      "source": [
        "15. > กำหนดให้ logic1 = True และ logic2 = False เขียนโปรแกรมเพื่อนำค่าความ\n",
        "จริงทั้งสองมาดำเนินการด้วยคำสั่ง \"หรือ\" หลังจากนั้นให้ทำการพิมพ์ค่าความ\n",
        "จริงที่ได้จากการดำเนินการออกมา"
      ],
      "metadata": {
        "id": "O2uyMEziLZKD"
      }
    },
    {
      "cell_type": "code",
      "source": [],
      "metadata": {
        "id": "fVi9bpzGMCVK"
      },
      "execution_count": null,
      "outputs": []
    },
    {
      "cell_type": "markdown",
      "source": [
        "16. > กำหนดให้ logic1 = True และ logic2 = False เขียนโปรแกรมเพื่อนำค่าความ\n",
        "จริงทั้งสองมาดำเนินการด้วยคำสั่ง \"หรือ\" หลังจากนั้นให้ทำการพิมพ์ค่าความ\n",
        "จริงที่ได้จากการดำเนินการออกมา"
      ],
      "metadata": {
        "id": "SCz9szgJMDLi"
      }
    },
    {
      "cell_type": "code",
      "source": [],
      "metadata": {
        "id": "3QXJwKxTMHE0"
      },
      "execution_count": null,
      "outputs": []
    },
    {
      "cell_type": "markdown",
      "source": [
        "17. > กำหนดให้ logic1 = True และ logic2 = False เขียนโปรแกรมเพื่อนำค่าความ\n",
        "จริงทั้งสองมาดำเนินการด้วยคำสั่ง \"หรือ\" หลังจากนั้นให้ทำการพิมพ์ค่าความ\n",
        "จริงที่ได้จากการดำเนินการออกมา"
      ],
      "metadata": {
        "id": "1zh4z3a0MHwU"
      }
    },
    {
      "cell_type": "code",
      "source": [],
      "metadata": {
        "id": "LYjd7w9OMgH7"
      },
      "execution_count": null,
      "outputs": []
    },
    {
      "cell_type": "markdown",
      "source": [
        "18. > เขียนโปรแกรมสร้างตัวแปรชื่อ complex 1 และกำหนดค่าให้เท่ากับ 1 + 2j\n",
        "หลังจากนั้นให้ทำการพิมพ์ส่วนจินตภาพออกมา"
      ],
      "metadata": {
        "id": "bO3tSd1ZMd4c"
      }
    },
    {
      "cell_type": "code",
      "source": [],
      "metadata": {
        "id": "0X0-pSsKM1lk"
      },
      "execution_count": null,
      "outputs": []
    },
    {
      "cell_type": "markdown",
      "source": [
        "## String"
      ],
      "metadata": {
        "id": "gXzprLt4M47K"
      }
    },
    {
      "cell_type": "markdown",
      "source": [
        "19. > เขียนโปรแกรมสร้างตัวแปรชื่อ string1 และกำหนดค่าให้เท่ากับ 'Python'\n",
        "หลังจากนั้นให้ทำการพิมพ์ค่าและชนิดข้อมูลของ string1 ออกมา"
      ],
      "metadata": {
        "id": "h0tIxlX-M_KV"
      }
    },
    {
      "cell_type": "code",
      "source": [],
      "metadata": {
        "id": "FZuGnNgINHqd"
      },
      "execution_count": null,
      "outputs": []
    },
    {
      "cell_type": "markdown",
      "source": [
        "20. > เขียนโปรแกรมสร้างตัวแปรชื่อ string1 และกำหนดค่าให้เท่ากับ 'Python'\n",
        "หลังจากนั้นให้ทำการพิมพ์อักขระที่ index เป็น 0 ออกมา"
      ],
      "metadata": {
        "id": "jVTwxCavNJ8F"
      }
    },
    {
      "cell_type": "code",
      "source": [],
      "metadata": {
        "id": "_Q_C66B_NYuV"
      },
      "execution_count": null,
      "outputs": []
    },
    {
      "cell_type": "markdown",
      "source": [
        "21. > เขียนโปรแกรมสร้างตัวแปรชื่อ string1 และกำหนดค่าให้เท่ากับ 'Python'\n",
        "หลังจากนั้นให้ทำการพิมพ์อักขระที่ index เป็น 0 ออกมา"
      ],
      "metadata": {
        "id": "3Fhyf7MvN9GT"
      }
    },
    {
      "cell_type": "code",
      "source": [],
      "metadata": {
        "id": "G4PPouWQOPpr"
      },
      "execution_count": null,
      "outputs": []
    },
    {
      "cell_type": "markdown",
      "source": [
        "22. > เขียนโปรแกรมสร้างตัวแปรชื่อ string 1 และกำหนดค่าให้เท่ากับ 'Python\n",
        "หลังจากนั้นให้ทำการพิมพ์อักขระที่ index เป็น -1 ออกมา"
      ],
      "metadata": {
        "id": "8fszjccpOhul"
      }
    },
    {
      "cell_type": "code",
      "source": [],
      "metadata": {
        "id": "QYwkzP3-OlH9"
      },
      "execution_count": null,
      "outputs": []
    },
    {
      "cell_type": "markdown",
      "source": [
        "23. > เขียนโปรแกรมสร้างตัวแปรชื่อ string1 และกำหนดค่าให้เท่ากับ 'Python'\n",
        "หลังจากนั้นให้ทำการพิมพ์อักขระที่ index เป็น -2 ออกมา"
      ],
      "metadata": {
        "id": "TWCYP77sOnA-"
      }
    },
    {
      "cell_type": "code",
      "source": [],
      "metadata": {
        "id": "dpDC3HEvOmYu"
      },
      "execution_count": null,
      "outputs": []
    },
    {
      "cell_type": "markdown",
      "source": [
        "24. > เขียนโปรแกรมสร้างตัวแปรชื่อ string 1 และกำหนดค่าให้เท่ากับ 'Python\n",
        "หลังจากนั้นให้ทำการพิมพ์อักขระ 't' ออกมา โดยอ้างอิงตำแหน่งจาก string1"
      ],
      "metadata": {
        "id": "z0QgZrfqO2LF"
      }
    },
    {
      "cell_type": "code",
      "source": [],
      "metadata": {
        "id": "QbaeAmqpPNCM"
      },
      "execution_count": null,
      "outputs": []
    },
    {
      "cell_type": "markdown",
      "source": [
        "25. > เขียนโปรแกรมสร้างตัวแปรชื่อ string1 และกำหนดค่าให้เท่ากับ 'Python\n",
        "หลังจากนั้นให้ทำการพิมพ์อักขระ 'h' ออกมา โดยอ้างอิงตำแหน่งจาก string1"
      ],
      "metadata": {
        "id": "U8qnX_i9PO-G"
      }
    },
    {
      "cell_type": "code",
      "source": [],
      "metadata": {
        "id": "BbDmJyIRPXOO"
      },
      "execution_count": null,
      "outputs": []
    },
    {
      "cell_type": "markdown",
      "source": [
        "26. > เขียนโปรแกรมสร้างตัวแปรชื่อ string 1 และกำหนดค่าให้เท่ากับ 'Python'\n",
        "หลังจากนั้นให้ทำการพิมพ์สายอักขระตั้งแต่ index ที่ 1 จนถึง index ที่ 3 ออก\n",
        "มา"
      ],
      "metadata": {
        "id": "NcWPRRCCP0gl"
      }
    },
    {
      "cell_type": "code",
      "source": [],
      "metadata": {
        "id": "wSE-TKdZP8mM"
      },
      "execution_count": null,
      "outputs": []
    },
    {
      "cell_type": "markdown",
      "source": [
        "27. > เขียนโปรแกรมสร้างตัวแปรชื่อ string1 และกำหนดค่าให้เท่ากับ 'Python\n",
        "หลังจากนั้นให้ทำการพิมพ์สายอักขระตั้งแต่ Index ที่ 2 จนถึง index ที่ -2 ออกมา"
      ],
      "metadata": {
        "id": "M4M-LA9aP9ZY"
      }
    },
    {
      "cell_type": "code",
      "source": [],
      "metadata": {
        "id": "1JZP8ETqQXqe"
      },
      "execution_count": null,
      "outputs": []
    },
    {
      "cell_type": "markdown",
      "source": [
        "28. > เขียนโปรแกรมสร้างตัวแปรชื่อ string1 และกำหนดค่าให้เท่ากับ 'Python\n",
        "หลังจากนั้นให้ทำการพิมพ์สายอักขระตั้งแต่ Index ที่ 2 จนถึง index ที่ -1 ออก\n",
        "มา"
      ],
      "metadata": {
        "id": "FAomuC8UQmhU"
      }
    },
    {
      "cell_type": "code",
      "source": [],
      "metadata": {
        "id": "FYjO3XoCQk4P"
      },
      "execution_count": null,
      "outputs": []
    },
    {
      "cell_type": "markdown",
      "source": [
        "29. > เขียนโปรแกรมสร้างตัวแปรชื่อ string 1 และกำหนดค่าให้เท่ากับ 'Python'\n",
        "หลังจากนั้นให้ทำการพิมพ์สายอักขระตั้งแต่ index ที่ -4 จนถึง index ที่ 4 ออก\n",
        "มา"
      ],
      "metadata": {
        "id": "sslsBCfYTPfP"
      }
    },
    {
      "cell_type": "code",
      "source": [],
      "metadata": {
        "id": "aPkT_iVqTiDo"
      },
      "execution_count": null,
      "outputs": []
    },
    {
      "cell_type": "markdown",
      "source": [
        "30. > เขียนโปรแกรมสร้างตัวแปรชื่อ sting 1 และกำหนดค่าให้เท่ากับ 'Python\"\n",
        "หลังจากนั้นให้ทำการพิมพ์สายอักขระตั้งแต่ index ที่ -6 จนถึง index ที่ 4 ออก\n",
        "มา"
      ],
      "metadata": {
        "id": "n4Xz3Ir_TPK_"
      }
    },
    {
      "cell_type": "code",
      "source": [],
      "metadata": {
        "id": "SDntazkcTkrv"
      },
      "execution_count": null,
      "outputs": []
    },
    {
      "cell_type": "markdown",
      "source": [
        "31. > เขียนโปรแกรมสร้างตัวแปรชื่อ string1 และกำหนดค่าให้เท่ากับ 'Python\n",
        "หลังจากนั้นให้ทำการพิมพ์สายอักขระตั้งแต่ index ที่ -4 จนถึง index ที่ 2\n",
        "ออกมา"
      ],
      "metadata": {
        "id": "LUzo-WjnTO-f"
      }
    },
    {
      "cell_type": "code",
      "source": [],
      "metadata": {
        "id": "P-bZuHQTTu2w"
      },
      "execution_count": null,
      "outputs": []
    },
    {
      "cell_type": "markdown",
      "source": [
        "32. > เขียนโปรแกรมรับอินพุต 1 ตัวที่เป็นสายอักขระ จากนั้นให้ทำการพิมพ์ความ\n",
        "ยาวของสายอักขระออกมา"
      ],
      "metadata": {
        "id": "7y5YGVXeTO0f"
      }
    },
    {
      "cell_type": "code",
      "source": [],
      "metadata": {
        "id": "wJ71NiFCT0lQ"
      },
      "execution_count": null,
      "outputs": []
    },
    {
      "cell_type": "markdown",
      "source": [
        "33. > เขียนโปรแกรมรับอินพุต 1 ตัวที่เป็นสายอักขระ ให้ทำการตรวจสอบสาย\n",
        "อักขระที่รับมาว่ามี 'ก' หรือไม่ จากนั้นให้พิมพ์ค่าความจริงออกมา"
      ],
      "metadata": {
        "id": "JxJPP5VhTOel"
      }
    },
    {
      "cell_type": "code",
      "source": [],
      "metadata": {
        "id": "LwIp-tPHT6RI"
      },
      "execution_count": null,
      "outputs": []
    },
    {
      "cell_type": "markdown",
      "source": [
        "34. > เขียนโปรแกรมรับอินพุต 2 ตัวที่เป็นสายอักขระ (string1, sting2) ให้ทำการ\n",
        "ตรวจ string 1 ที่รับมาว่ามี string2 ในนั้นหรือไม่ จากนั้นให้พิมพ์ค่าความจริง\n",
        "ออกมา\n",
        "\n",
        "```\n",
        "ตัวอย่างที่: สมมติให้ string1 = 'happy', string2 = 'app' ผลลัพธ์ที่จะพิมพ์\n",
        "ออกมาคือ True\n",
        "```"
      ],
      "metadata": {
        "id": "MeBWyD5cUB1P"
      }
    },
    {
      "cell_type": "markdown",
      "source": [
        "35. > เขียนโปรแกรมรับอินพุต 1 ตัวที่เป็นสายอักขระ ให้ทำการแทนที่อักขระ 'a\n",
        "ด้วย 'A' จากนั้นให้พิมพ์สายอักขระที่ผ่านการดำเนินการแล้วออกมา"
      ],
      "metadata": {
        "id": "-sMkAp0oUlXv"
      }
    },
    {
      "cell_type": "code",
      "source": [],
      "metadata": {
        "id": "fa6U3VEfUOVQ"
      },
      "execution_count": null,
      "outputs": []
    },
    {
      "cell_type": "markdown",
      "source": [
        "36. > เขียนโปรแกรมรับอินพุต 1 ตัวที่เป็นสายอักขระ ให้ทำการแทนที่อักขระ 'a'\n",
        "ด้วย 'A' และกำหนดค่าที่ผ่านการดำเนินการใส่ตัวแปรชื่อ sting2 จากนั้นให้\n",
        "พิมพ์ string2 ออกมา"
      ],
      "metadata": {
        "id": "G6PQMZtDUP2f"
      }
    },
    {
      "cell_type": "code",
      "source": [],
      "metadata": {
        "id": "Thq5PDWpVEkf"
      },
      "execution_count": null,
      "outputs": []
    },
    {
      "cell_type": "markdown",
      "source": [
        "37. > เขียนโปรแกรมรับอินพุต 1 ตัวที่เป็นสายอักขระ (sentence) ให้ทำการตัดคำ\n",
        "ในสายอักขระโดยใช้ ' เป็นตัวตัดคำ หลังจากนั้นให้พิมพ์ผลลัพธ์จากการตัดคำ\n",
        "ออกมา\n",
        "```\n",
        "ตัวอย่างที่: สมมติให้ sentence = 'We love Python' ผลลัพธ์ที่จ\n",
        "ออกมาคือ ['We', 'love, 'Python']\n",
        "```"
      ],
      "metadata": {
        "id": "LiplAPswVJGB"
      }
    },
    {
      "cell_type": "code",
      "source": [],
      "metadata": {
        "id": "ad29jR4TVH_p"
      },
      "execution_count": null,
      "outputs": []
    },
    {
      "cell_type": "markdown",
      "source": [
        "38. > เขียนโปรแกรมรับอินพุต 2 ตัวที่เป็นสายอักขระ (sentence, c) ให้ทำการตัด\n",
        "คำใน sentence โดยใช้ c เป็นตัวตัดคำ หลังจากนั้นให้พิมพ์ผลลัพธ์จากการตัด\n",
        "คำออกมา\n",
        "```\n",
        "ตัวอย่างที่: สมมติให้ sentence = 'Py-thon', c = '-' ผลลัพธ์ที่จะพิมพ์ออก\n",
        "มาคือ ['Py', 'thon']\n",
        "```"
      ],
      "metadata": {
        "id": "WkaqVpNmViWw"
      }
    },
    {
      "cell_type": "code",
      "source": [],
      "metadata": {
        "id": "BlXS3ecPWHkB"
      },
      "execution_count": null,
      "outputs": []
    },
    {
      "cell_type": "markdown",
      "source": [
        "39. > เขียนโปรแกรมรับอินพุต 2 ตัวที่เป็นสายอักขระ (str1, str2) ให้ทำการต่อสาย\n",
        "อักขระทั้งสอง (โดยนำ str2 ไปต่อหลัง str 1) หลังจากนั้นให้พิมพ์ผลลัพธ์ออก\n",
        "มา\n",
        "```\n",
        "ตัวอย่างที่: สมมตีให้ str1 = 'Fri', str2 = 'day' ผลลัพธ์ที่จะพิมพ์ออกมาคือ 'Friday'\n",
        "```"
      ],
      "metadata": {
        "id": "ElYXTUfiWHMA"
      }
    },
    {
      "cell_type": "code",
      "source": [],
      "metadata": {
        "id": "i6bpKWnBOQ6l"
      },
      "execution_count": null,
      "outputs": []
    },
    {
      "cell_type": "markdown",
      "source": [
        "## List"
      ],
      "metadata": {
        "id": "HyWpm9UUWTUz"
      }
    },
    {
      "cell_type": "markdown",
      "source": [
        "40. > เขียนโปรแกรมสร้าง list ที่มีสมาชิกเป็น 0, 1, 2, 'a', 'b', 'c' ตามลำดับ จากนั้น\n",
        "ให้ทำการพิมพ์ค่าและชนิดข้อมูลของ list ที่สร้างออกมา"
      ],
      "metadata": {
        "id": "DiY1PnfJOQBF"
      }
    },
    {
      "cell_type": "code",
      "source": [],
      "metadata": {
        "id": "fGEwgPUNOif8"
      },
      "execution_count": null,
      "outputs": []
    },
    {
      "cell_type": "markdown",
      "source": [
        "41. > กำหนดให้ list1 = [0, 1, 2, 'a', 'b', 'c' เขียนโปรแกรมเพื่อพิมพ์สมาชิกที่ index\n",
        "เป็น 2 ออกมา"
      ],
      "metadata": {
        "id": "nmVw_Kn3OkFt"
      }
    },
    {
      "cell_type": "code",
      "source": [],
      "metadata": {
        "id": "MLDv72y0OjfM"
      },
      "execution_count": null,
      "outputs": []
    },
    {
      "cell_type": "markdown",
      "source": [
        "42. > กำหนดให้ list1 = [0, 1, 2, 'a', 'b', 'c' เขียนโปรแกรมเพื่อพิมพ์สมาชิกที่ index\n",
        "เป็น -3 ออกมา"
      ],
      "metadata": {
        "id": "k0-EYQ40Ovp1"
      }
    },
    {
      "cell_type": "code",
      "source": [],
      "metadata": {
        "id": "x9eHosFpO8WG"
      },
      "execution_count": null,
      "outputs": []
    },
    {
      "cell_type": "markdown",
      "source": [
        "43. > กำหนดให้ list1 = [0, 1, 2, 'a', 'b', 'c'] เขียนโปรแกรมเพื่อพิมพ์ 0 ออกมาโดย\n",
        "อ้างอิงตำแหน่งจาก list1"
      ],
      "metadata": {
        "id": "Wa5rvxt_O2_1"
      }
    },
    {
      "cell_type": "code",
      "source": [],
      "metadata": {
        "id": "PO_8DPkqPCkV"
      },
      "execution_count": null,
      "outputs": []
    },
    {
      "cell_type": "markdown",
      "source": [
        "44. > กำหนดให้ list1 = [0, 1, 2, 'a, b', 'c'] เขียนโปรแกรมเพื่อพิมพ์ 'b' ออกมาโดย\n",
        "อ้างอิงตำแหน่งจาก listt"
      ],
      "metadata": {
        "id": "Qwv5kpj-P3yN"
      }
    },
    {
      "cell_type": "code",
      "source": [],
      "metadata": {
        "id": "SPplMDgIP0hO"
      },
      "execution_count": null,
      "outputs": []
    },
    {
      "cell_type": "markdown",
      "source": [
        "45. > กำหนดให้ list1 = [0, 1, 2, 'a', 'b', 'c' เขียนโปรแกรมเพื่อพิมพ์ lst ที่มีสมาชิก\n",
        "ตั้งแต่ index ที่ 2 จนถึง index ที่ 3 ของ แist1 ออกมา"
      ],
      "metadata": {
        "id": "LuuvNja0PDEP"
      }
    },
    {
      "cell_type": "code",
      "source": [],
      "metadata": {
        "id": "k-G2uXWoQ0qA"
      },
      "execution_count": null,
      "outputs": []
    },
    {
      "cell_type": "markdown",
      "source": [
        "46. >  กำหนดให้ list1 = [0, 1, 2, 'a', 'b', 'c'] เขียนโปรแกรมเพื่อพิมพ์ list ที่มีสมาชิก\n",
        "ตั้งแต่ index ที่ 1 จนถึง index ที่ -2 ของ list1 ออกมา"
      ],
      "metadata": {
        "id": "1vSd3Eo4RUJ1"
      }
    },
    {
      "cell_type": "code",
      "source": [],
      "metadata": {
        "id": "1X7hLMR4RgRU"
      },
      "execution_count": null,
      "outputs": []
    },
    {
      "cell_type": "markdown",
      "source": [
        "47. > กำหนดให้ list1 = [0, 1, 2, 'a', 'b', 'c'] เขียนโปรแกรมเพื่อพิมพ์ [1, 2, 'a', 'b']\n",
        "โดยอ้างอิงตำแหน่งจาก list1"
      ],
      "metadata": {
        "id": "TMNao6tqRrX2"
      }
    },
    {
      "cell_type": "code",
      "source": [],
      "metadata": {
        "id": "YSla5nwmRviv"
      },
      "execution_count": null,
      "outputs": []
    },
    {
      "cell_type": "markdown",
      "source": [
        "48. > กำหนดให้ list1 = [0, 1, 2, 'a', 'b, 'c'] เขียนโปรแกรมเพื่อพิมพ์ ['a', 'b', 'c']\n",
        "โดยอ้างอิงตำแหน่งจาก list1"
      ],
      "metadata": {
        "id": "sJZ1Cu-KR7jH"
      }
    },
    {
      "cell_type": "code",
      "source": [],
      "metadata": {
        "id": "B7ICKn-ySkPn"
      },
      "execution_count": null,
      "outputs": []
    },
    {
      "cell_type": "markdown",
      "source": [
        "49. > กำหนดให้ list1 = [0, 1, 2, 'a', 'b', 'c'] เขียนโปรแกรมเพื่อพิมพ์ [0, 1, 2] โดย อ้างอิงตำแหน่งจาก list1"
      ],
      "metadata": {
        "id": "j-31GWUCS3YM"
      }
    },
    {
      "cell_type": "code",
      "source": [],
      "metadata": {
        "id": "xWVeSCBfTMN2"
      },
      "execution_count": null,
      "outputs": []
    },
    {
      "cell_type": "markdown",
      "source": [
        "50. > กำหนดให้ lis12 = ['ant', 'bird', 'cat', 'dog', 'eagle' เขียนโปรแกรมเพื่อเปลี่ยน\n",
        "ค่าสมาชิกใน index ที่ 3 เป็น 'duck' หลังจากนั้นให้พิมพ์ list2 ออกมา"
      ],
      "metadata": {
        "id": "YVDqYmJOTM7P"
      }
    },
    {
      "cell_type": "code",
      "source": [],
      "metadata": {
        "id": "Bc3FsRlgTckn"
      },
      "execution_count": null,
      "outputs": []
    },
    {
      "cell_type": "markdown",
      "source": [
        "51. > กำหนดให้ list2 = ['ant', 'bird', 'cat', 'dog', 'eagle'] เขียนโปรแกรมเพื่อเปลี่ยน\n",
        "'ant' เป็น 'ape' หลังจากนั้นให้พิมพ์ list2 ออกมา"
      ],
      "metadata": {
        "id": "L63LAvAVTf3Q"
      }
    },
    {
      "cell_type": "code",
      "source": [],
      "metadata": {
        "id": "W6Eht912Tv6J"
      },
      "execution_count": null,
      "outputs": []
    },
    {
      "cell_type": "markdown",
      "source": [
        "52. > กำหนดให้ list2 = ['ant, 'bird', 'cat, 'dog', 'eagle'] เขียนโปรแกรมเพื่อเพิ่ม\n",
        "'fish' ไปเป็นสมาชิกตัวสุดท้ายของ list2 หลังจากนั้นให้พิมพ์ list2 ออกมา"
      ],
      "metadata": {
        "id": "Q7MVGLhDTyR4"
      }
    },
    {
      "cell_type": "code",
      "source": [],
      "metadata": {
        "id": "IgmEBOR0UEsI"
      },
      "execution_count": null,
      "outputs": []
    },
    {
      "cell_type": "markdown",
      "source": [
        "53. > เขียนโปรแกรมสร้าง empty list และรับอินพุต 3 ตัวที่เป็นสายอักขระ (str1,\n",
        "str2, str3) จากนั้นให้ทำการเพิ่มสายอักขระทั้ง 3 ไปเป็นสมาชิกใน list โดยใช้เมธอด append สุดท้ายให้พิมพ์ list ออกมา"
      ],
      "metadata": {
        "id": "thpaCiB-UFHw"
      }
    },
    {
      "cell_type": "code",
      "source": [],
      "metadata": {
        "id": "mQgLBINVUaTB"
      },
      "execution_count": null,
      "outputs": []
    },
    {
      "cell_type": "markdown",
      "source": [
        "54. > กำหนดให้ list3 = I'apple, cherry'; 'eggfruit] เขียนโปรแกรมเพื่อแทรก \"ba-\n",
        "nana'ไปเป็นสมาชิกใน index ที่ 1 ของ list3 หลังจากนั้นให้พิมพ์ list3 ออกมา"
      ],
      "metadata": {
        "id": "XGLTx_LvUa84"
      }
    },
    {
      "cell_type": "code",
      "source": [],
      "metadata": {
        "id": "AZGm0QWSUgOw"
      },
      "execution_count": null,
      "outputs": []
    },
    {
      "cell_type": "markdown",
      "source": [
        "55. > กำหนดให้ list3 = ['apple', 'banana', 'cherry', 'eggfruit'] เขียนโปรแกรมเพื่อ\n",
        "แทรก 'kiwi' ไปเป็นสมาชิกใน index ที่ -2 ของ list3 หลังจากนั้นให้พิมพ์ list3 ออกมา"
      ],
      "metadata": {
        "id": "U_GcLGUTUfvH"
      }
    },
    {
      "cell_type": "code",
      "source": [],
      "metadata": {
        "id": "m_79qZpYVANg"
      },
      "execution_count": null,
      "outputs": []
    },
    {
      "cell_type": "markdown",
      "source": [
        "56. > กำหนดให้ Iist4 = [0, 4, 2, 3, 1] เขียนโปรแกรมเพื่อเรียงลำดับข้อมูลใน list4\n",
        "จากน้อยไปมาก หลังจากนั้นให้พิมพ์ แist4 ออกมา"
      ],
      "metadata": {
        "id": "kjCjEPUtVLze"
      }
    },
    {
      "cell_type": "code",
      "source": [],
      "metadata": {
        "id": "ZbhoV2JMVRA2"
      },
      "execution_count": null,
      "outputs": []
    },
    {
      "cell_type": "markdown",
      "source": [
        "57. > กำหนดให้ list4 = [0, 4, 2, 3, 1] เขียนโปรแกรมเพื่อเรียงลำดับข้อมูลใน list4\n",
        "จากมากไปน้อย หลังจากนั้นให้พิมพ์ list4 ออกมา"
      ],
      "metadata": {
        "id": "ypGBErx4VRYQ"
      }
    },
    {
      "cell_type": "code",
      "source": [],
      "metadata": {
        "id": "c1TLOp5wVcio"
      },
      "execution_count": null,
      "outputs": []
    },
    {
      "cell_type": "markdown",
      "source": [
        "58. > กำหนดให้ แist4 = [0, 4, 2, 3, 1] เขียนโปรแกรมเพื่อเรียงลำดับข้อมูลใน list4\n",
        "จากน้อยไปมาก และเก็บค่าไว้ในตัวแปรชื่อ sorted_list4 หลังจากนั้นให้พิมพ์ sorted_list4 ออกมา"
      ],
      "metadata": {
        "id": "eZVUF11gV73o"
      }
    },
    {
      "cell_type": "code",
      "source": [],
      "metadata": {
        "id": "ibMPMXJ4WRxm"
      },
      "execution_count": null,
      "outputs": []
    },
    {
      "cell_type": "markdown",
      "source": [
        "59. > กำหนดให้ list4 = [0, 4, 2, 3, 1] เขียนโปรแกรมเพื่อเรียงลำดับข้อมูลใน list4\n",
        "จากมากไปน้อย และเก็บค่าไว้ในตัวแปรชื่อ sorted_list4 หลังจากนั้นให้พิมพ์\n",
        "sorted_list4 ออกมา"
      ],
      "metadata": {
        "id": "Gcb2Cu7XWTzH"
      }
    },
    {
      "cell_type": "code",
      "source": [],
      "metadata": {
        "id": "q6Bvt3wHW0oQ"
      },
      "execution_count": null,
      "outputs": []
    },
    {
      "cell_type": "markdown",
      "source": [
        "60. > กำหนดให้ list5 = ['d, 'a', 'c', 'b', 'e'] เขียนโปรแกรมเพื่อเรียงลำดับข้อมูลใน\n",
        "list5 ตามตัวอักษร หลังจากนั้นให้พิมพ์ list5 ออกมา"
      ],
      "metadata": {
        "id": "8CXRWBaOW1wu"
      }
    },
    {
      "cell_type": "code",
      "source": [],
      "metadata": {
        "id": "0bJhAMSOXKsx"
      },
      "execution_count": null,
      "outputs": []
    },
    {
      "cell_type": "markdown",
      "source": [
        "61. > กำหนดให้ list5 = ['d', 'a', 'c', 'b', 'e'] เขียนโปรแกรมเพื่อเรียงลำดับข้อมูลใน\n",
        "list5 ตามตัวอักษรแบบถอยหลัง และเก็บค่าไว้ในตัวแปรชื่อ sorted_list5 หลังจากนั้นให้พิมพ์ sorted_list5 ออกมา"
      ],
      "metadata": {
        "id": "zKUlPxQFXLNT"
      }
    },
    {
      "cell_type": "code",
      "source": [],
      "metadata": {
        "id": "mLg746JBYX-D"
      },
      "execution_count": null,
      "outputs": []
    },
    {
      "cell_type": "markdown",
      "source": [
        "62. > กำหนดให้ list1 = ['a', 'b', 'c'] และ list2 = [0, 1, 2] เขียนโปรแกรมเพื่อนำ\n",
        "สมาชิกทั้งหมดของ list2 ไปต่อท้าย list1 จากนั้นให้พิมพ์ list1 และ list2 ออกมา"
      ],
      "metadata": {
        "id": "2Y4Jb82RYYiS"
      }
    },
    {
      "cell_type": "code",
      "source": [],
      "metadata": {
        "id": "uHWyV9y0YtvK"
      },
      "execution_count": null,
      "outputs": []
    },
    {
      "cell_type": "markdown",
      "source": [
        "63. > กำหนดให้ list1 = ['a', 'b', 'c'] และ list2 = [0, 1, 2] เขียนโปรแกรมเพื่อนำ\n",
        "สมาชิกทั้งหมดของ list2 ไปต่อท้าย list1 และเก็บ list ที่ได้จากการดำเนินการ\n",
        "ไว้ในตัวแปรชื่อ list3 จากนั้นให้พิมพ์ list1, list2 และ list3 ออกมา"
      ],
      "metadata": {
        "id": "Wk3kLJ8rYuPx"
      }
    },
    {
      "cell_type": "code",
      "source": [],
      "metadata": {
        "id": "v4iM8n5HY1ZC"
      },
      "execution_count": null,
      "outputs": []
    },
    {
      "cell_type": "markdown",
      "source": [
        "64. > กำหนดให้ list1 = [1, 2, 3, 1, 2, 3] เขียนโปรแกรมลบสมาชิกใน index ที่ 1\n",
        "ออกจาก list1 โดยใช้คำสั่ง del หลังจากนั้นให้พิมพ์ list1 ออกมา"
      ],
      "metadata": {
        "id": "2zcezLFOY9DB"
      }
    },
    {
      "cell_type": "code",
      "source": [],
      "metadata": {
        "id": "yDWi5gmQZJcS"
      },
      "execution_count": null,
      "outputs": []
    },
    {
      "cell_type": "markdown",
      "source": [
        "65. > กำหนดให้ Iist1 = [1, 2, 3, 1, 2, 3] เขียนโปรแกรมลบ 3 ทั้งหมดออกจาก list1\n",
        "โดยใช้คำสั่ง del หลังจากนั้นให้พิมพ์ list1 ออกมา"
      ],
      "metadata": {
        "id": "CuWY8hxgZV6Y"
      }
    },
    {
      "cell_type": "code",
      "source": [],
      "metadata": {
        "id": "hDu0gKpZZya6"
      },
      "execution_count": null,
      "outputs": []
    },
    {
      "cell_type": "markdown",
      "source": [
        "66. > กำหนดให้ list1 = [1 , 2, 3, 1, 2, 3] เขียนโปรแกรมลบ 1 ออกจาก list1 โดยใช้เมธอด remove หลังจากนั้นให้พิมพ์ list1 ออกมา"
      ],
      "metadata": {
        "id": "UFAjAfRMZzNi"
      }
    },
    {
      "cell_type": "code",
      "source": [],
      "metadata": {
        "id": "o_9rCv8PawAj"
      },
      "execution_count": null,
      "outputs": []
    },
    {
      "cell_type": "markdown",
      "source": [
        "67. กำหนดให้ แรt1 = [1, 2, 3, 1, 2, 3] เขียนโปรแกรมลบ 1 ทั้งหมดออกจาก list1\n",
        "โดยใช้เมธอด remove หลังจากนั้นให้พิมพ์ list1 ออกมา"
      ],
      "metadata": {
        "id": "ImsHB3JmazY4"
      }
    },
    {
      "cell_type": "code",
      "source": [],
      "metadata": {
        "id": "p2vQitG_a7jb"
      },
      "execution_count": null,
      "outputs": []
    },
    {
      "cell_type": "markdown",
      "source": [
        "68. > กำหนดให้ list1 = [1, 2, 3, 1, 2, 3] เขียนโปรแกรมลบสมาชิกทุกตัวออกจาก\n",
        "list1 หลังจากนั้นให้พิมพ์ list1 ออกมา"
      ],
      "metadata": {
        "id": "o0LLpd-Pa_tT"
      }
    },
    {
      "cell_type": "code",
      "source": [],
      "metadata": {
        "id": "svzicIJubgCj"
      },
      "execution_count": null,
      "outputs": []
    },
    {
      "cell_type": "markdown",
      "source": [
        "69. > กำหนดให้ แรt1 = [1, 2, 3, 'a', 'b', 'c] เขียนโปรแกรมหาความยาวของ lst1\n",
        "และพิมพ์ออกมา"
      ],
      "metadata": {
        "id": "ltNImeMlbpL5"
      }
    },
    {
      "cell_type": "code",
      "source": [],
      "metadata": {
        "id": "5_DmJ2jnbwLU"
      },
      "execution_count": null,
      "outputs": []
    },
    {
      "cell_type": "markdown",
      "source": [
        "70. > กำหนดให้ list1 = [1, 2, 3, 4, 5] เขียนโปรแกรมรับอินพุต 1 ตัวที่เป็น\n",
        "จำนวนเต็ม (numeric1) ให้ทำการตรวจว่า numeric1 เป็นสมาชิกใน list1 หรือ\n",
        "ไม่ จากนั้นให้พิมพ์ค่าความจริงออกมา"
      ],
      "metadata": {
        "id": "jhSe1Adyjctx"
      }
    },
    {
      "cell_type": "code",
      "source": [],
      "metadata": {
        "id": "hPZo_Uucjdbp"
      },
      "execution_count": null,
      "outputs": []
    },
    {
      "cell_type": "markdown",
      "source": [
        "## Tuple"
      ],
      "metadata": {
        "id": "8kWoqPq0jE7a"
      }
    },
    {
      "cell_type": "markdown",
      "source": [
        "71. > เขียนโปรแกรมสร้าง tuple ที่มีสมาชิกเป็น 'America', 'Brazil, 'China', 'Dominican', 'Egypt' ตามลำดับ จากนั้นให้ทำการพิมพ์ค่าและชนิดข้อมูลของ tuple ที่สร้างออกมา"
      ],
      "metadata": {
        "id": "eFsqeUGYjQoP"
      }
    },
    {
      "cell_type": "code",
      "source": [],
      "metadata": {
        "id": "JtMPnceijKQH"
      },
      "execution_count": null,
      "outputs": []
    },
    {
      "cell_type": "markdown",
      "source": [
        "72. > กำหนดให้ tuple1 = ('America', 'Brazil', 'China', 'Dominican', 'Egypt')\n",
        "เขียนโปรแกรมเพื่อพิมพ์สมาชิกที่ index เป็น 1 ออกมา"
      ],
      "metadata": {
        "id": "z9kzOt4fcc5k"
      }
    },
    {
      "cell_type": "code",
      "source": [],
      "metadata": {
        "id": "YW4uMrxGkAeh"
      },
      "execution_count": null,
      "outputs": []
    },
    {
      "cell_type": "markdown",
      "source": [
        "73. > กำหนดให้ tuple1 = ('America', 'Brazil', 'China', 'Dominican', 'Egypt')\n",
        "เขียนโปรแกรมเพื่อพิมพ์สมาชิกที่ index เป็น -2 ออกมา"
      ],
      "metadata": {
        "id": "2qN4WhwEkCg9"
      }
    },
    {
      "cell_type": "code",
      "source": [],
      "metadata": {
        "id": "5ZKn5x7ikHVg"
      },
      "execution_count": null,
      "outputs": []
    },
    {
      "cell_type": "markdown",
      "source": [
        "74. > กำหนดให้ tuple1 = ('America', 'Brazil', 'China', 'Dominican', 'Egypt')\n",
        "เขียนโปรแกรมเพื่อพิมพ์ 'China' ออกมาโดยอ้างอิงตำแหน่งจาก tuple1"
      ],
      "metadata": {
        "id": "joukhulAkKO_"
      }
    },
    {
      "cell_type": "code",
      "source": [],
      "metadata": {
        "id": "XL2yJiDEkLNQ"
      },
      "execution_count": null,
      "outputs": []
    },
    {
      "cell_type": "markdown",
      "source": [
        "75. > กำหนดให้ tuple1 = ('America', 'Brazil, 'China', 'Dominican', 'Egypt')\n",
        "เขียนโปรแกรมเพื่อพิมพ์ 'Egypt'"
      ],
      "metadata": {
        "id": "MkZjry4kkQIw"
      }
    },
    {
      "cell_type": "code",
      "source": [],
      "metadata": {
        "id": "B0taro0RkUY_"
      },
      "execution_count": null,
      "outputs": []
    },
    {
      "cell_type": "markdown",
      "source": [
        "76. > กำหนดให้ tuple2 = ('one', 'two', 'three', 1, 2, 3) เขียนโปรแกรมเพื่อพิมพ์\n",
        "tuple ที่มีสมาชิกตั้งแต่ index ที่ 1 จนถึง index ที่ 3 ของ tuple2 ออกมา"
      ],
      "metadata": {
        "id": "AH8oDHRqkawa"
      }
    },
    {
      "cell_type": "code",
      "source": [],
      "metadata": {
        "id": "6vGXlRw9kfn_"
      },
      "execution_count": null,
      "outputs": []
    },
    {
      "cell_type": "markdown",
      "source": [
        "77. > กำหนดให้ tuple2 = ('one', 'two', 'three', 1, 2, 3) เขียนโปรแกรมเพื่อพิมพ์\n",
        "tuple ที่มีสมาชิกตั้งแต่ index ที่ 2 จนถึง index ที่ -2 ของ tuple2 ออกมา"
      ],
      "metadata": {
        "id": "qNfQo-rFkimf"
      }
    },
    {
      "cell_type": "code",
      "source": [],
      "metadata": {
        "id": "yZOvHta0koyo"
      },
      "execution_count": null,
      "outputs": []
    },
    {
      "cell_type": "markdown",
      "source": [
        "78. > กำหนดให้ tuple2 = ('one', 'two, 'three', 1, 2, 3) เขียนโปรแกรมเพื่อพิมพ์\n",
        "(three, 1) โดยอ้างอิงตำแหน่งจาก tuple2"
      ],
      "metadata": {
        "id": "QaapEsJfktzI"
      }
    },
    {
      "cell_type": "code",
      "source": [],
      "metadata": {
        "id": "d-cGAPbIkySI"
      },
      "execution_count": null,
      "outputs": []
    },
    {
      "cell_type": "markdown",
      "source": [
        "79. > กำหนดให้ tuple2 = ('one', 'two', 'three', 1, 2, 3) เขียนโปรแกรมเพื่อพิมพ์\n",
        "('one', 'two', 'three') โดยอ้างอิงตำแหน่งจาก tuple2"
      ],
      "metadata": {
        "id": "PADCq_3zkzTI"
      }
    },
    {
      "cell_type": "code",
      "source": [],
      "metadata": {
        "id": "5NyqSrqxk8MQ"
      },
      "execution_count": null,
      "outputs": []
    },
    {
      "cell_type": "markdown",
      "source": [
        "80. > กำหนดให้ tuple2 = ('one', 'two, 'three', 1, 2, 3) เขียนโปรแกรมเพื่อพิมพ์\n",
        "(1. 2, 3) โดยอ้างอิงตำแหน่งจาก tuple2"
      ],
      "metadata": {
        "id": "Wmfg3c5zk8zK"
      }
    },
    {
      "cell_type": "code",
      "source": [],
      "metadata": {
        "id": "KXHt5I-NlEbg"
      },
      "execution_count": null,
      "outputs": []
    },
    {
      "cell_type": "markdown",
      "source": [
        "81. > กำหนดให้ tuple3 = ('one', 'two', 'three', 'four', 'five') เขียนโปรแกรม\n",
        "หาความยาวของ tuple3 และพิมพ์ออกมา"
      ],
      "metadata": {
        "id": "xZuiybNklLxP"
      }
    },
    {
      "cell_type": "code",
      "source": [],
      "metadata": {
        "id": "0ozxVHaQlWPQ"
      },
      "execution_count": null,
      "outputs": []
    },
    {
      "cell_type": "markdown",
      "source": [
        "82. > กำหนดให้ tuple3 = ('one','two', 'three', 'four', 'five') เขียนโปรแกรมรับ\n",
        "อินพุต 1 ตัวที่เป็นสายอักขระ (str1) ให้ทำการตรวจว่า str1 เป็นสมาชิกใน tuple3 หรือไม่ จากนั้นให้พิมพ์ค่าความจริงออกมา"
      ],
      "metadata": {
        "id": "QUPkbe4XlW3P"
      }
    },
    {
      "cell_type": "code",
      "source": [],
      "metadata": {
        "id": "dQVzDov4oDIi"
      },
      "execution_count": null,
      "outputs": []
    },
    {
      "cell_type": "markdown",
      "source": [
        "##Dictionary"
      ],
      "metadata": {
        "id": "03himPvGoFq5"
      }
    },
    {
      "cell_type": "markdown",
      "source": [
        "83. > เขียนโปรแกรมสร้าง dictionary ที่มี key เป็น 'first name' และ 'last name' โดยมี value เป็น John' และ 'Doe' ตามลำดับ จากนั้นให้ทำการพิมพ์ค่าและ\n",
        "ชนิดข้อมูลของ dictionary ที่สร้างออกมา"
      ],
      "metadata": {
        "id": "jYoNz-2foW8p"
      }
    },
    {
      "cell_type": "code",
      "source": [],
      "metadata": {
        "id": "FGXQ7YqGogrB"
      },
      "execution_count": null,
      "outputs": []
    },
    {
      "cell_type": "markdown",
      "source": [
        "84. > กำหนดให้ dict1 = ('first name' : 'John', 'last name' : 'Doe') เขียนโปรแกรมพิมพ์ value ของ key 'first_ name' ออกมา"
      ],
      "metadata": {
        "id": "K4krj4Q1onNC"
      }
    },
    {
      "cell_type": "code",
      "source": [],
      "metadata": {
        "id": "OBsY6oeIo8t6"
      },
      "execution_count": null,
      "outputs": []
    },
    {
      "cell_type": "markdown",
      "source": [
        "85. > กำหนดให้ dictt = ('first name : 'John', 'Iast name' : 'Doe'l เขียน\n",
        "โปรแกรมพิมพ์ value ของ key 'last name' ออกมา"
      ],
      "metadata": {
        "id": "fsCEdmR8o5cC"
      }
    },
    {
      "cell_type": "code",
      "source": [],
      "metadata": {
        "id": "jEj3h89Poyqi"
      },
      "execution_count": null,
      "outputs": []
    },
    {
      "cell_type": "markdown",
      "source": [
        "86. > กำหนดให้ dict1 = ('first name' : 'John', 'last name' : 'Doe' เขียนโปรแกรมพิมพ์ list ของ key ทั้งหมดใน dict1 ออกมา"
      ],
      "metadata": {
        "id": "kVjGS-OFpXUK"
      }
    },
    {
      "cell_type": "code",
      "source": [],
      "metadata": {
        "id": "HQ4HSvsLqeRS"
      },
      "execution_count": null,
      "outputs": []
    },
    {
      "cell_type": "markdown",
      "source": [
        "87. > กำหนดให้ dict1 = ('first name' : 'John', 'last name : 'Doe') เขียน\n",
        "โปรแกรมพิมพ์ list ของ value ทั้งหมดใน dict1 ออกมา"
      ],
      "metadata": {
        "id": "s31zw6Fhqe5L"
      }
    },
    {
      "cell_type": "code",
      "source": [],
      "metadata": {
        "id": "7P2vWTfxqkyS"
      },
      "execution_count": null,
      "outputs": []
    },
    {
      "cell_type": "markdown",
      "source": [
        "88. > 88. กำหนดให้ dict1 = ('first name' : 'John', 'last name' : 'Doe' เขียน\n",
        "โปรแกรมเปลี่ยน value ของ key 'first name' เป็น 'Jane' หลังจากนั้นให้\n",
        "พิมพ์ dict1 ออกมา"
      ],
      "metadata": {
        "id": "p0Sq3sWjqlmy"
      }
    },
    {
      "cell_type": "code",
      "source": [],
      "metadata": {
        "id": "jzmlSfhWqwcT"
      },
      "execution_count": null,
      "outputs": []
    },
    {
      "cell_type": "markdown",
      "source": [
        "89. > กำหนดให้ dictt = ('first name' : 'John', 'last name' : 'Doe\" เขียน\n",
        "โปรแกรมสร้าง key ใหม่ชื่อ 'age' และกำหนด value เป็น 32 หลังจากนั้นให้ พิมพ์ dict1 ออกมา"
      ],
      "metadata": {
        "id": "M5vqP77zsUa7"
      }
    },
    {
      "cell_type": "code",
      "source": [],
      "metadata": {
        "id": "x4Y-fQqxs9qs"
      },
      "execution_count": null,
      "outputs": []
    },
    {
      "cell_type": "markdown",
      "source": [
        "90. > กำหนดให้ dict1 = ('first name' : 'John', 'last name' : 'Doe') เขียน\n",
        "โปรแกรมสร้าง key ใหม่ชื่อ 'age' และ 'hobby' โดยมี value เป็น 32 และ\n",
        "['coding', 'studying'] ตามลำดับ หลังจากนั้นให้พิมพ์ dict1 ออกมา"
      ],
      "metadata": {
        "id": "1zp3El_OtJ5_"
      }
    },
    {
      "cell_type": "code",
      "source": [],
      "metadata": {
        "id": "SWs5f8HHtfeT"
      },
      "execution_count": null,
      "outputs": []
    },
    {
      "cell_type": "markdown",
      "source": [
        "91. > เขียนโปรแกรมสร้าง empty dictionary และรับอินพุต 2 ตัวที่เป็นสายอักขระ\n",
        "(str1, str2) โดยให้ str1 เป็น key และ str2 เป็น value หลังจากนั้นให้พิมพ์\n",
        "dictionary ออกมา"
      ],
      "metadata": {
        "id": "uKas6Q83uWAF"
      }
    },
    {
      "cell_type": "code",
      "source": [],
      "metadata": {
        "id": "-XLqAXSlueSs"
      },
      "execution_count": null,
      "outputs": []
    },
    {
      "cell_type": "markdown",
      "source": [
        "92. > กำหนดให้ dict1 = ('first_name' : 'John', 'last_name' : 'Doe', 'age' : 32)\n",
        "เขียนโปรแกรมสบ key 'age' ออกจาก dict1 หลังจากนั้นให้พิมพ์ dict ออก\n",
        "มา"
      ],
      "metadata": {
        "id": "-YOHGC0pvKJc"
      }
    },
    {
      "cell_type": "code",
      "source": [],
      "metadata": {
        "id": "K1zAprEhvbMF"
      },
      "execution_count": null,
      "outputs": []
    },
    {
      "cell_type": "markdown",
      "source": [
        "93. > กำหนดให้ dict1 = ('first _name' : 'John', 'last name' : 'Doe', 'age' : 32]\n",
        "เขียนโปรแกรมลบข้อมูลทั้งหมดออกจาก dict1 หลังจากนั้นให้พิมพ์ dict1 ออก\n",
        "มา"
      ],
      "metadata": {
        "id": "35RZNNlQvxZ0"
      }
    },
    {
      "cell_type": "code",
      "source": [],
      "metadata": {
        "id": "ptkQJX8Ov74V"
      },
      "execution_count": null,
      "outputs": []
    },
    {
      "cell_type": "markdown",
      "source": [
        "94. > กำหนดให้ dict1 = ('first _name' : 'John', 'last _name' : 'Doe', 'age' : 32)\n",
        "เขียนโปรแกรมพิมพ์จำนวน key ของ dict1 ออกมา"
      ],
      "metadata": {
        "id": "acufyTcoxyoH"
      }
    },
    {
      "cell_type": "code",
      "source": [],
      "metadata": {
        "id": "ZelhRiFOx3FG"
      },
      "execution_count": null,
      "outputs": []
    },
    {
      "cell_type": "markdown",
      "source": [
        "95. > กำหนดให้ dict1 = ('first name' : 'John', 'last name' : 'Doe', 'age' : 32)\n",
        "เขียนโปรแกรมรับอินพุต 1 ตัวที่เป็นสายอักขระ (str1) ให้ทำการตรวจว่า str1\n",
        "เป็นหนึ่งใน key ของ dict1 หรือไม่ จากนั้นให้พิมพ์ค่ความจริงออกมา"
      ],
      "metadata": {
        "id": "xfz6CsOfx6rO"
      }
    },
    {
      "cell_type": "code",
      "source": [],
      "metadata": {
        "id": "fU6xE-rpyGoW"
      },
      "execution_count": null,
      "outputs": []
    },
    {
      "cell_type": "markdown",
      "source": [
        "96. > กำหนดให้ dict1 = ('first name' : 'John', 'last name' : 'Doe', 'age' : 32)\n",
        "เขียนโปรแกรมรับอินพุต 1 ตัวที่เป็นสายอักขระ (str 1) ให้ทำการตรวจว่า str1\n",
        "เป็นหนึ่งใน value ของ dict1 หรือไม่ จากนั้นให้พิมพ์ค่าความจริงออกมา"
      ],
      "metadata": {
        "id": "ZN-tMcPAyHN_"
      }
    },
    {
      "cell_type": "code",
      "source": [],
      "metadata": {
        "id": "X0DN6sM-yV52"
      },
      "execution_count": null,
      "outputs": []
    },
    {
      "cell_type": "markdown",
      "source": [
        "## Set\n"
      ],
      "metadata": {
        "id": "gcIHM-WbybGO"
      }
    },
    {
      "cell_type": "markdown",
      "source": [
        "97. > เขียนโปรแกรมสร้าง set ที่มีสมาชิกเป็น 1, 2, 3, \"i\", \"ii\", \"iii\" จากนั้นให้ทำการ\n",
        "พิมพ์ค่าและชนิดข้อมูลของ set ที่สร้างออกมา"
      ],
      "metadata": {
        "id": "x7IjpIQDyny_"
      }
    },
    {
      "cell_type": "code",
      "source": [],
      "metadata": {
        "id": "K_uyQqqrzYcH"
      },
      "execution_count": null,
      "outputs": []
    },
    {
      "cell_type": "markdown",
      "source": [
        "98. > กำหนดให้ set1 =  {1, 2, 3, \"i\", \"ii\", \"iii\" } เขียนโปรแกรมพิมพ์สมาชิกทุกตัวใน set 1 ออกมา"
      ],
      "metadata": {
        "id": "Y0YQIPwOzti2"
      }
    },
    {
      "cell_type": "code",
      "source": [],
      "metadata": {
        "id": "TN6vYGqj0Jwy"
      },
      "execution_count": null,
      "outputs": []
    },
    {
      "cell_type": "markdown",
      "source": [
        "99. > กำหนดให้ set1 =  {1, 2, 3, \"i\", \"ii\", \"iii\"} เขียนโปรแกรมเพิ่ม \"iv' ไปเป็นสมาซิก\n",
        "ใน set1 จากนั้นให้พิมพ์ set1 ออกมา"
      ],
      "metadata": {
        "id": "9Cg67u7e0KOP"
      }
    },
    {
      "cell_type": "code",
      "source": [],
      "metadata": {
        "id": "HOnTKZz_0Xi6"
      },
      "execution_count": null,
      "outputs": []
    },
    {
      "cell_type": "markdown",
      "source": [
        "100. > กำหนดให้ set1 = {1, 2, 3, \"i\", \"ii\", \"iii\" } เขียนโปรแกรมเพิ่ม 1 ไปเป็นสมาชิกใน\n",
        "set1 จากนั้นให้พิมพ์ set1 ออกมา"
      ],
      "metadata": {
        "id": "l9wwiL0h0YY_"
      }
    },
    {
      "cell_type": "code",
      "source": [],
      "metadata": {
        "id": "AFW5lVDD0mAQ"
      },
      "execution_count": null,
      "outputs": []
    },
    {
      "cell_type": "markdown",
      "source": [
        "101. > เขียนโปรแกรมสร้าง empty set และรับอินพุต 3 ตัวที่เป็นสายอักขระ (str 1,\n",
        "str2, str3) จากนั้นให้ทำการเพิ่มสายอักขระทั้ง 3ไปเป็นสมาชิกใน set สุดท้าย\n",
        "ให้พิมพ์ set ออกมา"
      ],
      "metadata": {
        "id": "ceKNazAj1RxY"
      }
    },
    {
      "cell_type": "code",
      "source": [],
      "metadata": {
        "id": "9LD44EMT1c1X"
      },
      "execution_count": null,
      "outputs": []
    },
    {
      "cell_type": "markdown",
      "source": [
        "102. > เขียนโปรแกรมสร้าง empty set และรับอินพุต 3 ตัวที่เป็นสายอักขระ (str1,\n",
        "str2, str3) จากนั้นให้ทำการเพิ่มสายอักขระทั้ง 3 ไปเป็นสมาชิกใน set โดย\n",
        "การใช้เมธอด update สุดท้ายให้พิมพ์ set ออกมา"
      ],
      "metadata": {
        "id": "ePns8wU42ANY"
      }
    },
    {
      "cell_type": "code",
      "source": [],
      "metadata": {
        "id": "_Ly9-lOG2H3H"
      },
      "execution_count": null,
      "outputs": []
    },
    {
      "cell_type": "markdown",
      "source": [
        "103. > เขียนโปรแกรมสร้าง empty set และรับอินพุต 3 ตัวที่เป็นสายอักขระ (str1,\n",
        "str2, str3) จากนั้นให้ทำการเพิ่มสายอักขระทั้ง 3 ไปเป็นสมาชิกใน set โดย\n",
        "การใช้เมธอด update สุดท้ายให้พิมพ์ set ออกมา"
      ],
      "metadata": {
        "id": "cS2omuuJ2TWI"
      }
    },
    {
      "cell_type": "code",
      "source": [],
      "metadata": {
        "id": "BVKTSrxP2UO0"
      },
      "execution_count": null,
      "outputs": []
    },
    {
      "cell_type": "markdown",
      "source": [
        "104. > กำหนดให้ set1 = {1, 2, 3, 'i', 'ii', 'iii'} เขียนโปรแกรมพิมพ์จำนวนสมาชิกใน\n",
        "set1 ออกมา"
      ],
      "metadata": {
        "id": "KVq8Chmc20XY"
      }
    },
    {
      "cell_type": "code",
      "source": [],
      "metadata": {
        "id": "EdzhIS9U22wZ"
      },
      "execution_count": null,
      "outputs": []
    },
    {
      "cell_type": "markdown",
      "source": [
        "105. > กำหนดให้ set1 = {1, 2, 3, 'i', 'ii', 'iii'} เขียนโปรแกรมรับอินพุต 1 ตัวที่เป็น\n",
        "จำนวนเต็ม (int 1) ให้ทำการตรวจว่า int1 เป็นสมาชิกของ set1 หรือไม่ จาก\n",
        "นั้นให้พิมพ์ค่าความจริงออกมา"
      ],
      "metadata": {
        "id": "C0CnJVMu23dq"
      }
    },
    {
      "cell_type": "code",
      "source": [],
      "metadata": {
        "id": "JAy0R7Tk3Oob"
      },
      "execution_count": null,
      "outputs": []
    },
    {
      "cell_type": "markdown",
      "source": [
        "106. > กำหนดให้ set 1 = {1, 2, 3, 4, 5} และ set2 = {3, 4, 5, 6} เขียนโปรแกรมพิมพ์\n",
        "ผลลัพธ์ที่เกิดจากการ union ระหว่าง set1 และ set2 ออกมา"
      ],
      "metadata": {
        "id": "nZo9DktJ3VMJ"
      }
    },
    {
      "cell_type": "code",
      "source": [],
      "metadata": {
        "id": "tFQbefCU3lFk"
      },
      "execution_count": null,
      "outputs": []
    },
    {
      "cell_type": "markdown",
      "source": [
        "107. > กำหนดให้ set 1 = {1, 2, 3, 4, 5} และ set2 = {3, 4, 5, 6} เขียนโปรแกรมพิมพ์\n",
        "ผลลัพธ์ที่เกิดจากการ intersection ระหว่าง set1 และ set2 ออกมา"
      ],
      "metadata": {
        "id": "aRXagfRe3oFC"
      }
    },
    {
      "cell_type": "code",
      "source": [],
      "metadata": {
        "id": "GKkSIhky3zeh"
      },
      "execution_count": null,
      "outputs": []
    },
    {
      "cell_type": "markdown",
      "source": [
        "108. > กำหนดให้ set 1 = {1, 2, 3, 4, 5} และ set2 = {3, 4, 5, 6} เขียนโปรแกรมพิมพ์\n",
        "ผลลัพธ์ที่เกิดจากการ intersection ระหว่าง set1 และ set2 ออกมา"
      ],
      "metadata": {
        "id": "mbIWtlrk34gB"
      }
    },
    {
      "cell_type": "code",
      "source": [],
      "metadata": {
        "id": "LnjhhsxS4J9C"
      },
      "execution_count": null,
      "outputs": []
    },
    {
      "cell_type": "markdown",
      "source": [
        "109. > กำหนดให้ set1 = {1, 2, 3, 4, 5} และ set2 = {3, 4, 5, 6} เขียนโปรแกรมพิมพ์\n",
        "ผลลัพธ์ที่เกิดจาก set2 - set1 ออกมา"
      ],
      "metadata": {
        "id": "Y9DhzgiQ4KXa"
      }
    },
    {
      "cell_type": "code",
      "source": [],
      "metadata": {
        "id": "9rBTWh-R4Vcp"
      },
      "execution_count": null,
      "outputs": []
    },
    {
      "cell_type": "markdown",
      "source": [
        "110. > กำหนดให้ set1 = {1, 2, 3, 4, 5} และ set2 = {3, 4, 5, 6} เขียนโปรแกรมพิมพ์\n",
        "ผลลัพธ์ที่เกิดจากการ symmetric difference ระหว่าง set1 และ se12 ออกมา"
      ],
      "metadata": {
        "id": "SFa8VI254fOK"
      }
    }
  ]
}